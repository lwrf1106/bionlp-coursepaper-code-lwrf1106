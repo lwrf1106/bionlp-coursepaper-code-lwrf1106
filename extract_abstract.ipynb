{
 "cells": [
  {
   "cell_type": "code",
   "execution_count": 6,
   "metadata": {},
   "outputs": [],
   "source": [
    "import json\n",
    "import langid\n",
    "import re"
   ]
  },
  {
   "cell_type": "code",
   "execution_count": 3,
   "metadata": {},
   "outputs": [],
   "source": [
    "with open('pid_title.json') as f:\n",
    "    pid_title = json.load(f)\n",
    "\n",
    "pid_list = list(pid_title.keys())"
   ]
  },
  {
   "cell_type": "code",
   "execution_count": 5,
   "metadata": {},
   "outputs": [],
   "source": [
    "pid_raw_text = {}\n",
    "for pid in pid_list:\n",
    "    with open(f'raw_data/{pid}.txt') as f:\n",
    "        pid_raw_text[pid] = f.read()"
   ]
  },
  {
   "cell_type": "code",
   "execution_count": 39,
   "metadata": {},
   "outputs": [],
   "source": [
    "pid_abstract = {}\n",
    "more_than_one_part = []\n",
    "zero_part = []\n",
    "\n",
    "for pid, raw_text in pid_raw_text.items():\n",
    "    parts = raw_text.split('\\n\\n')[1:]\n",
    "    possible_parts = []\n",
    "\n",
    "    if re.findall(r'^Author information:', raw_text, re.MULTILINE):\n",
    "        has_author_info = True\n",
    "    else:\n",
    "        has_author_info = False\n",
    "\n",
    "    before_author_info = True\n",
    "\n",
    "    for part in parts:\n",
    "        part_lines = part.split('\\n')\n",
    "        if has_author_info and re.findall(r'^Author information:', part, re.MULTILINE):\n",
    "            before_author_info = False\n",
    "            continue\n",
    "        elif has_author_info and before_author_info:\n",
    "            continue\n",
    "        elif part.startswith('DOI: '):\n",
    "            continue\n",
    "        elif part.startswith('PMID: '):\n",
    "            continue\n",
    "        elif '©' in part:\n",
    "            continue\n",
    "        elif part.startswith('Conflict of interest statement:'):\n",
    "            continue\n",
    "        elif part.startswith('Comment on'):\n",
    "            continue\n",
    "        elif part.startswith('Comment in'):\n",
    "            continue\n",
    "        elif part.startswith('['):\n",
    "            continue\n",
    "        elif part.startswith('Publisher:'):\n",
    "            continue\n",
    "        elif part.startswith('Plain Language Summary:'):\n",
    "            continue\n",
    "        elif part.startswith('The Author(s)'):\n",
    "            continue\n",
    "        elif part.startswith('Collaborators:'):\n",
    "            continue\n",
    "        elif len(part_lines) <= 5:\n",
    "            continue\n",
    "        else:\n",
    "            possible_parts.append(part)\n",
    "\n",
    "    if len(possible_parts) == 0:\n",
    "        zero_part.append(pid)\n",
    "    elif len(possible_parts) == 1:\n",
    "        pid_abstract[pid] = possible_parts[0]\n",
    "    else:\n",
    "        # 对于有多个可能的part，只保留英文的\n",
    "        en_parts = []\n",
    "        for part in possible_parts:\n",
    "            if langid.classify(part)[0] == 'en':\n",
    "                en_parts.append(part)\n",
    "        if len(en_parts) == 1:\n",
    "            # 如果按照英文筛选后只剩下一个part，那就用这个part\n",
    "            pid_abstract[pid] = en_parts[0]\n",
    "        else:\n",
    "            # 如果按照英文筛选后还有多个part，属于特殊情况，需要人工判断\n",
    "            more_than_one_part.append(pid)"
   ]
  },
  {
   "cell_type": "code",
   "execution_count": 46,
   "metadata": {},
   "outputs": [],
   "source": [
    "# 过滤非英文的摘要\n",
    "pid_abstract_en = {}\n",
    "non_en = []\n",
    "for pid, abstract in pid_abstract.items():\n",
    "    if langid.classify(abstract)[0] == 'en':\n",
    "        pid_abstract_en[pid] = abstract\n",
    "    else:\n",
    "        non_en.append(pid)"
   ]
  },
  {
   "cell_type": "code",
   "execution_count": 47,
   "metadata": {},
   "outputs": [
    {
     "data": {
      "text/plain": [
       "(11738, 11721, 17, 18, 3139)"
      ]
     },
     "execution_count": 47,
     "metadata": {},
     "output_type": "execute_result"
    }
   ],
   "source": [
    "len(pid_abstract), len(pid_abstract_en), len(non_en), len(more_than_one_part), len(zero_part)"
   ]
  },
  {
   "cell_type": "code",
   "execution_count": 50,
   "metadata": {},
   "outputs": [],
   "source": [
    "# 保存摘要\n",
    "with open('pid_abstract.json', 'w') as f:\n",
    "    json.dump(pid_abstract_en, f)\n",
    "\n",
    "with open('pid_abstract_en.json', 'w') as f:\n",
    "    json.dump(pid_abstract_en, f)\n",
    "\n",
    "with open('pid_abstract_non_en.json', 'w') as f:\n",
    "    json.dump(non_en, f)\n",
    "\n",
    "with open('pid_abstract_more_than_one_part.json', 'w') as f:\n",
    "    json.dump(more_than_one_part, f)\n",
    "\n",
    "with open('pid_abstract_zero_part.json', 'w') as f:\n",
    "    json.dump(zero_part, f)\n",
    "\n",
    "for pid in pid_abstract_en.keys():\n",
    "    with open(f'raw_data_clean/{pid}.txt', 'w') as f:\n",
    "        f.write(pid_abstract_en[pid])"
   ]
  },
  {
   "cell_type": "code",
   "execution_count": 52,
   "metadata": {},
   "outputs": [],
   "source": [
    "# 手动处理多个part的情况\n",
    "for pid in more_than_one_part:\n",
    "    with open(f'manually_extract/{pid}.txt', 'w') as f:\n",
    "        f.write(pid_raw_text[pid])"
   ]
  },
  {
   "cell_type": "code",
   "execution_count": null,
   "metadata": {},
   "outputs": [],
   "source": []
  }
 ],
 "metadata": {
  "kernelspec": {
   "display_name": "base",
   "language": "python",
   "name": "python3"
  },
  "language_info": {
   "codemirror_mode": {
    "name": "ipython",
    "version": 3
   },
   "file_extension": ".py",
   "mimetype": "text/x-python",
   "name": "python",
   "nbconvert_exporter": "python",
   "pygments_lexer": "ipython3",
   "version": "3.9.16"
  }
 },
 "nbformat": 4,
 "nbformat_minor": 2
}
