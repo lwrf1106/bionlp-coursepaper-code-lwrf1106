{
 "cells": [
  {
   "cell_type": "code",
   "execution_count": 1,
   "metadata": {},
   "outputs": [],
   "source": [
    "import json\n",
    "import openai\n",
    "import os\n",
    "import tiktoken\n",
    "from scipy import spatial  # for calculating vector similarities for search"
   ]
  },
  {
   "cell_type": "code",
   "execution_count": null,
   "metadata": {},
   "outputs": [],
   "source": [
    "openai.api_key = os.environ[\"OPENAI_API_KEY\"]"
   ]
  },
  {
   "cell_type": "code",
   "execution_count": 36,
   "metadata": {},
   "outputs": [],
   "source": [
    "def get_embedding(text):\n",
    "    try:\n",
    "        response = openai.Embedding.create(\n",
    "                input=text,\n",
    "                engine=\"text-embedding-ada-002-test\",\n",
    "            )\n",
    "        embedding = response['data'][0]['embedding']\n",
    "        assert len(embedding) == 1536\n",
    "        return embedding\n",
    "    except Exception as e:\n",
    "        embedding = None\n",
    "        return embedding\n",
    "    \n",
    "def get_chat_completion(prompt, model='gpt-3.5-turbo-16k', system_prompt='You answer questions about COVID-19 base on the abstrates of research papers.'):\n",
    "    try:\n",
    "        response = openai.ChatCompletion.create(\n",
    "            messages=[\n",
    "                {'role': 'system', 'content': system_prompt},\n",
    "                {'role': 'user', 'content': prompt},\n",
    "            ],\n",
    "            model=model,\n",
    "            temperature=0,\n",
    "        )\n",
    "\n",
    "        return response['choices'][0]['message']['content']\n",
    "    \n",
    "    except Exception as e:\n",
    "        return None\n"
   ]
  },
  {
   "cell_type": "code",
   "execution_count": 8,
   "metadata": {},
   "outputs": [],
   "source": [
    "# load abstracts and their embeddings\n",
    "with open('abstrate_embeddings.json') as f:\n",
    "    abstrates_embeddings = json.load(f)\n",
    "\n",
    "with open('pid_abstract_final.json') as f:\n",
    "    pid_abstrate = json.load(f)\n",
    "\n",
    "with open('pid_title.json') as f:\n",
    "    pid_title = json.load(f)\n",
    "\n",
    "pid_content_relate_label = {}\n",
    "with open('topic02.csv') as f:\n",
    "    lines = f.read().splitlines()\n",
    "\n",
    "for line in lines:\n",
    "    pid, label = line.split(',')\n",
    "    pid_content_relate_label[pid] = int(label)"
   ]
  },
  {
   "cell_type": "code",
   "execution_count": 9,
   "metadata": {},
   "outputs": [],
   "source": [
    "# function to calculate similarity between two embeddings\n",
    "relatedness_fn=lambda x, y: 1 - spatial.distance.cosine(x, y)"
   ]
  },
  {
   "cell_type": "code",
   "execution_count": 21,
   "metadata": {},
   "outputs": [],
   "source": [
    "# function to get the top related abstracts\n",
    "def get_top_related_abstracts(query_embedding, top_n=20):\n",
    "    related_abstracts = []\n",
    "    for pid, embedding in abstrates_embeddings.items():\n",
    "        relatedness = relatedness_fn(query_embedding, embedding)\n",
    "        related_abstracts.append((pid, relatedness))\n",
    "\n",
    "    related_abstracts.sort(key=lambda x: x[1], reverse=True)\n",
    "    return related_abstracts[:top_n]\n",
    "\n",
    "# function to make related abstracts into a text\n",
    "def make_related_abstracts_text(pids):\n",
    "    related_abstracts = []\n",
    "    for pid in pids:\n",
    "        related_abstracts.append(f'Title: {pid_title[pid]}\\nAbstract: {pid_abstrate[pid]}\\n---\\n')\n",
    "    related_abstracts = ''.join(related_abstracts)\n",
    "    return related_abstracts\n",
    "\n",
    "\n",
    "# function to generate the prompt for the GPT model\n",
    "def generate_prompt(related_abstracts, query, format_prompt=None):\n",
    "    prompt = f\"\"\"Use the below abstracts of research papers from Long covid database to answer the subsequent question. If the answer cannot be found, write \"I don't know.\"\n",
    "Abstracts of research papers:\n",
    "\\\"\\\"\\\"\n",
    "{related_abstracts}\n",
    "\\\"\\\"\\\"\n",
    "\n",
    "Question: {query}\"\"\"\n",
    "    if format_prompt is not None:\n",
    "        prompt += f\"\\n\\nFormat: {format_prompt}\"\n",
    "    return prompt\n",
    "\n",
    "# function to count prompt tokens\n",
    "def count_prompt_tokens(prompt, model='gpt-3.5-turbo-16k'):\n",
    "    tokenizer = tiktoken.encoding_for_model(model)\n",
    "    tokens = tokenizer.encode(prompt)\n",
    "    return len(tokens)"
   ]
  },
  {
   "cell_type": "markdown",
   "metadata": {},
   "source": [
    "### Query1: What neurological sequelae (manifestations) of COVID-19 (coronavirus) infection have been reported in current research?"
   ]
  },
  {
   "cell_type": "code",
   "execution_count": 16,
   "metadata": {},
   "outputs": [
    {
     "name": "stdout",
     "output_type": "stream",
     "text": [
      "token count: 6657\n"
     ]
    }
   ],
   "source": [
    "query1 = \"What neurological sequelae (manifestations) of COVID-19 (coronavirus) infection have been reported in current research?\"\n",
    "query_embedding = get_embedding(query1)\n",
    "top20_related = get_top_related_abstracts(query_embedding, top_n=20)\n",
    "top20_related_pids = [pid for pid, _ in top20_related]\n",
    "related_abstracts = make_related_abstracts_text(pids=top20_related_pids)\n",
    "with open('related_abstracts_query1.txt', 'w') as f:\n",
    "    f.write(related_abstracts)\n",
    "prompt = generate_prompt(related_abstracts, query1)\n",
    "token_count = count_prompt_tokens(prompt)\n",
    "print('token count:', token_count)"
   ]
  },
  {
   "cell_type": "code",
   "execution_count": 17,
   "metadata": {},
   "outputs": [
    {
     "name": "stdout",
     "output_type": "stream",
     "text": [
      "The neurological sequelae (manifestations) of COVID-19 infection that have been reported in current research include headache, dizziness, depression, anosmia (loss of smell), encephalitis (inflammation of the brain), stroke, epileptic seizures, Guillain-Barre syndrome, altered mental status, impaired consciousness, cranial nerve manifestations, cognitive dysfunction, dysautonomia, myalgia (muscle pain), and peripheral neuropathies.\n"
     ]
    }
   ],
   "source": [
    "print(get_chat_completion(prompt))"
   ]
  },
  {
   "cell_type": "code",
   "execution_count": 22,
   "metadata": {},
   "outputs": [
    {
     "name": "stdout",
     "output_type": "stream",
     "text": [
      "token count: 6666\n"
     ]
    }
   ],
   "source": [
    "# try format prompt\n",
    "prompt = generate_prompt(related_abstracts, query1, format_prompt='\\nPlease answer in json format.')\n",
    "token_count = count_prompt_tokens(prompt)\n",
    "print('token count:', token_count)"
   ]
  },
  {
   "cell_type": "code",
   "execution_count": 29,
   "metadata": {},
   "outputs": [
    {
     "name": "stdout",
     "output_type": "stream",
     "text": [
      "{\n",
      "  \"neurological_sequelae\": [\n",
      "    \"headache\",\n",
      "    \"dizziness\",\n",
      "    \"depression\",\n",
      "    \"anosmia\",\n",
      "    \"encephalitis\",\n",
      "    \"stroke\",\n",
      "    \"epileptic seizures\",\n",
      "    \"Guillain-Barre syndrome\",\n",
      "    \"impaired consciousness\",\n",
      "    \"cranial nerve manifestations\",\n",
      "    \"autoimmune disorders\",\n",
      "    \"cognitive dysfunction\",\n",
      "    \"dysautonomia\",\n",
      "    \"myalgia\",\n",
      "    \"hyposmia\",\n",
      "    \"dysgeusia\",\n",
      "    \"muscle pain\",\n",
      "    \"acute cerebrovascular disease\",\n",
      "    \"seizures\",\n",
      "    \"encephalopathy\",\n",
      "    \"delirium\",\n",
      "    \"cerebrovascular accidents\",\n",
      "    \"acute transverse myelitis\",\n",
      "    \"acute encephalitis\",\n",
      "    \"posterior reversible encephalopathy syndrome (PRES)\",\n",
      "    \"encephalopathy\",\n",
      "    \"meningoencephalitis\",\n",
      "    \"psychosis\",\n",
      "    \"brain fog\",\n",
      "    \"Guillain-Barre syndrome\",\n",
      "    \"depression\",\n",
      "    \"anxiety\",\n",
      "    \"ischemic stroke\",\n",
      "    \"hemorrhagic stroke\",\n",
      "    \"cognitive dysfunction\",\n",
      "    \"dysautonomia\",\n",
      "    \"anosmia\",\n",
      "    \"ageusia\",\n",
      "    \"encephalitis\",\n",
      "    \"Guillain-Barre syndrome\",\n",
      "    \"headache\",\n",
      "    \"peripheral neuropathies\",\n",
      "    \"seizures\",\n",
      "    \"acute cerebrovascular disease\",\n",
      "    \"encephalopathy\",\n",
      "    \"hyposmia\",\n",
      "    \"anosmia\",\n",
      "    \"ageusia\",\n",
      "    \"muscle pain\",\n",
      "    \"Guillain-Barre syndrome\",\n",
      "    \"encephalitis\",\n",
      "    \"dizziness\",\n",
      "    \"impaired consciousness\",\n",
      "    \"cranial nerve manifestations\",\n",
      "    \"autoimmune disorders\",\n",
      "    \"cognitive dysfunction\",\n",
      "    \"dysautonomia\",\n",
      "    \"myalgia\",\n",
      "    \"headache\",\n",
      "    \"weakness\",\n",
      "    \"altered consciousness\",\n",
      "    \"encephalitis\",\n",
      "    \"demyelination\",\n",
      "    \"neuropathy\",\n",
      "    \"stroke\",\n",
      "    \"headache\",\n",
      "    \"fatigue\",\n",
      "    \"myalgia\",\n",
      "    \"anosmia\",\n",
      "    \"ageusia\",\n",
      "    \"sleep disturbances\",\n",
      "    \"encephalopathy\",\n",
      "    \"ischemic stroke\",\n",
      "    \"seizures\",\n",
      "    \"autoimmune peripheral neuropathies\",\n",
      "    \"headache\",\n",
      "    \"altered sensorium\",\n",
      "    \"agitation\",\n",
      "    \"delirium\",\n",
      "    \"coma\",\n",
      "    \"hypoxic and metabolic abnormalities\",\n",
      "    \"cytokine storm\",\n",
      "    \"coagulopathies\",\n",
      "    \"ischemic or hemorrhagic stroke\",\n",
      "    \"SARS-CoV-2 virus encephalitis\",\n",
      "    \"acute disseminated encephalomyelitis\",\n",
      "    \"acute necrotizing encephalopathy\",\n",
      "    \"nonspecific headache\",\n",
      "    \"personal protection equipment-related headache\",\n",
      "    \"anosmia\",\n",
      "    \"ageusia\",\n",
      "    \"Guillain-Barre syndrome\",\n",
      "    \"myalgia\",\n",
      "    \"fatigue\",\n",
      "    \"elevated creatine kinase levels\"\n",
      "  ]\n",
      "}\n"
     ]
    }
   ],
   "source": [
    "result = get_chat_completion(prompt)\n",
    "print(result)"
   ]
  },
  {
   "cell_type": "code",
   "execution_count": 30,
   "metadata": {},
   "outputs": [],
   "source": [
    "result = json.loads(result)"
   ]
  },
  {
   "cell_type": "code",
   "execution_count": 32,
   "metadata": {},
   "outputs": [
    {
     "data": {
      "text/plain": [
       "['headache',\n",
       " 'dizziness',\n",
       " 'depression',\n",
       " 'anosmia',\n",
       " 'encephalitis',\n",
       " 'stroke',\n",
       " 'epileptic seizures',\n",
       " 'Guillain-Barre syndrome',\n",
       " 'impaired consciousness',\n",
       " 'cranial nerve manifestations',\n",
       " 'autoimmune disorders',\n",
       " 'cognitive dysfunction',\n",
       " 'dysautonomia',\n",
       " 'myalgia',\n",
       " 'hyposmia',\n",
       " 'dysgeusia',\n",
       " 'muscle pain',\n",
       " 'acute cerebrovascular disease',\n",
       " 'seizures',\n",
       " 'encephalopathy',\n",
       " 'delirium',\n",
       " 'cerebrovascular accidents',\n",
       " 'acute transverse myelitis',\n",
       " 'acute encephalitis',\n",
       " 'posterior reversible encephalopathy syndrome (PRES)',\n",
       " 'encephalopathy',\n",
       " 'meningoencephalitis',\n",
       " 'psychosis',\n",
       " 'brain fog',\n",
       " 'Guillain-Barre syndrome',\n",
       " 'depression',\n",
       " 'anxiety',\n",
       " 'ischemic stroke',\n",
       " 'hemorrhagic stroke',\n",
       " 'cognitive dysfunction',\n",
       " 'dysautonomia',\n",
       " 'anosmia',\n",
       " 'ageusia',\n",
       " 'encephalitis',\n",
       " 'Guillain-Barre syndrome',\n",
       " 'headache',\n",
       " 'peripheral neuropathies',\n",
       " 'seizures',\n",
       " 'acute cerebrovascular disease',\n",
       " 'encephalopathy',\n",
       " 'hyposmia',\n",
       " 'anosmia',\n",
       " 'ageusia',\n",
       " 'muscle pain',\n",
       " 'Guillain-Barre syndrome',\n",
       " 'encephalitis',\n",
       " 'dizziness',\n",
       " 'impaired consciousness',\n",
       " 'cranial nerve manifestations',\n",
       " 'autoimmune disorders',\n",
       " 'cognitive dysfunction',\n",
       " 'dysautonomia',\n",
       " 'myalgia',\n",
       " 'headache',\n",
       " 'weakness',\n",
       " 'altered consciousness',\n",
       " 'encephalitis',\n",
       " 'demyelination',\n",
       " 'neuropathy',\n",
       " 'stroke',\n",
       " 'headache',\n",
       " 'fatigue',\n",
       " 'myalgia',\n",
       " 'anosmia',\n",
       " 'ageusia',\n",
       " 'sleep disturbances',\n",
       " 'encephalopathy',\n",
       " 'ischemic stroke',\n",
       " 'seizures',\n",
       " 'autoimmune peripheral neuropathies',\n",
       " 'headache',\n",
       " 'altered sensorium',\n",
       " 'agitation',\n",
       " 'delirium',\n",
       " 'coma',\n",
       " 'hypoxic and metabolic abnormalities',\n",
       " 'cytokine storm',\n",
       " 'coagulopathies',\n",
       " 'ischemic or hemorrhagic stroke',\n",
       " 'SARS-CoV-2 virus encephalitis',\n",
       " 'acute disseminated encephalomyelitis',\n",
       " 'acute necrotizing encephalopathy',\n",
       " 'nonspecific headache',\n",
       " 'personal protection equipment-related headache',\n",
       " 'anosmia',\n",
       " 'ageusia',\n",
       " 'Guillain-Barre syndrome',\n",
       " 'myalgia',\n",
       " 'fatigue',\n",
       " 'elevated creatine kinase levels']"
      ]
     },
     "execution_count": 32,
     "metadata": {},
     "output_type": "execute_result"
    }
   ],
   "source": [
    "result['neurological_sequelae']"
   ]
  },
  {
   "cell_type": "code",
   "execution_count": 33,
   "metadata": {},
   "outputs": [],
   "source": [
    "with open('result_query1.json', 'w') as f:\n",
    "    json.dump(result, f, indent=4)"
   ]
  },
  {
   "cell_type": "code",
   "execution_count": 34,
   "metadata": {},
   "outputs": [
    {
     "data": {
      "text/plain": [
       "(95, 53)"
      ]
     },
     "execution_count": 34,
     "metadata": {},
     "output_type": "execute_result"
    }
   ],
   "source": [
    "len(result['neurological_sequelae']), len(set(result['neurological_sequelae']))"
   ]
  },
  {
   "cell_type": "code",
   "execution_count": 37,
   "metadata": {},
   "outputs": [
    {
     "data": {
      "text/plain": [
       "['autoimmune peripheral neuropathies',\n",
       " 'nonspecific headache',\n",
       " 'anxiety',\n",
       " 'acute disseminated encephalomyelitis',\n",
       " 'headache',\n",
       " 'autoimmune disorders',\n",
       " 'meningoencephalitis',\n",
       " 'acute transverse myelitis',\n",
       " 'seizures',\n",
       " 'cerebrovascular accidents',\n",
       " 'hypoxic and metabolic abnormalities',\n",
       " 'ischemic stroke',\n",
       " 'dizziness',\n",
       " 'encephalitis',\n",
       " 'altered consciousness',\n",
       " 'personal protection equipment-related headache',\n",
       " 'neuropathy',\n",
       " 'encephalopathy',\n",
       " 'coagulopathies',\n",
       " 'ageusia',\n",
       " 'acute encephalitis',\n",
       " 'agitation',\n",
       " 'Guillain-Barre syndrome',\n",
       " 'posterior reversible encephalopathy syndrome (PRES)',\n",
       " 'SARS-CoV-2 virus encephalitis',\n",
       " 'dysgeusia',\n",
       " 'coma',\n",
       " 'cytokine storm',\n",
       " 'depression',\n",
       " 'psychosis',\n",
       " 'epileptic seizures',\n",
       " 'altered sensorium',\n",
       " 'fatigue',\n",
       " 'myalgia',\n",
       " 'acute cerebrovascular disease',\n",
       " 'hyposmia',\n",
       " 'stroke',\n",
       " 'cognitive dysfunction',\n",
       " 'weakness',\n",
       " 'sleep disturbances',\n",
       " 'acute necrotizing encephalopathy',\n",
       " 'ischemic or hemorrhagic stroke',\n",
       " 'hemorrhagic stroke',\n",
       " 'dysautonomia',\n",
       " 'peripheral neuropathies',\n",
       " 'elevated creatine kinase levels',\n",
       " 'brain fog',\n",
       " 'muscle pain',\n",
       " 'demyelination',\n",
       " 'delirium',\n",
       " 'cranial nerve manifestations',\n",
       " 'anosmia',\n",
       " 'impaired consciousness']"
      ]
     },
     "execution_count": 37,
     "metadata": {},
     "output_type": "execute_result"
    }
   ],
   "source": [
    "sequelae = list(set(result['neurological_sequelae']))\n",
    "sequelae"
   ]
  },
  {
   "cell_type": "code",
   "execution_count": 44,
   "metadata": {},
   "outputs": [
    {
     "name": "stdout",
     "output_type": "stream",
     "text": [
      "token count: 404\n"
     ]
    }
   ],
   "source": [
    "prompt = f'''Here are the neurological sequelae of COVID-19 infection reported in current research. Please classify them into the categories based on your knowledge.\n",
    "Sequelae list:\n",
    "{sequelae}\n",
    "\n",
    "Format: please use json format to answer the question. For example, {'{\"categories1\": [\"sequelae1\", \"sequelae2\", ...], \"categories2\": [\"sequelae3\", ...], ...}'}'''\n",
    "\n",
    "token_count = count_prompt_tokens(prompt)\n",
    "print('token count:', token_count)\n"
   ]
  },
  {
   "cell_type": "code",
   "execution_count": 45,
   "metadata": {},
   "outputs": [],
   "source": [
    "result = get_chat_completion(prompt=prompt, model='gpt-4', system_prompt='You are an expert in medical field and help users do a variety of tasks based on your expertise.')"
   ]
  },
  {
   "cell_type": "code",
   "execution_count": 48,
   "metadata": {},
   "outputs": [],
   "source": [
    "result = json.loads(result)"
   ]
  },
  {
   "cell_type": "code",
   "execution_count": 50,
   "metadata": {},
   "outputs": [
    {
     "data": {
      "text/plain": [
       "{'Neurological Disorders': ['autoimmune peripheral neuropathies',\n",
       "  'acute disseminated encephalomyelitis',\n",
       "  'meningoencephalitis',\n",
       "  'acute transverse myelitis',\n",
       "  'seizures',\n",
       "  'cerebrovascular accidents',\n",
       "  'ischemic stroke',\n",
       "  'encephalitis',\n",
       "  'encephalopathy',\n",
       "  'acute encephalitis',\n",
       "  'Guillain-Barre syndrome',\n",
       "  'posterior reversible encephalopathy syndrome (PRES)',\n",
       "  'SARS-CoV-2 virus encephalitis',\n",
       "  'acute necrotizing encephalopathy',\n",
       "  'ischemic or hemorrhagic stroke',\n",
       "  'hemorrhagic stroke',\n",
       "  'dysautonomia',\n",
       "  'peripheral neuropathies',\n",
       "  'demyelination',\n",
       "  'cranial nerve manifestations',\n",
       "  'anosmia',\n",
       "  'impaired consciousness'],\n",
       " 'Psychiatric Disorders': ['anxiety',\n",
       "  'depression',\n",
       "  'psychosis',\n",
       "  'agitation',\n",
       "  'delirium'],\n",
       " 'Symptoms and Signs': ['nonspecific headache',\n",
       "  'headache',\n",
       "  'dizziness',\n",
       "  'altered consciousness',\n",
       "  'personal protection equipment-related headache',\n",
       "  'neuropathy',\n",
       "  'ageusia',\n",
       "  'dysgeusia',\n",
       "  'coma',\n",
       "  'altered sensorium',\n",
       "  'fatigue',\n",
       "  'myalgia',\n",
       "  'hyposmia',\n",
       "  'weakness',\n",
       "  'sleep disturbances',\n",
       "  'brain fog',\n",
       "  'muscle pain'],\n",
       " 'Systemic Complications': ['hypoxic and metabolic abnormalities',\n",
       "  'coagulopathies',\n",
       "  'cytokine storm',\n",
       "  'elevated creatine kinase levels'],\n",
       " 'Cognitive Disorders': ['cognitive dysfunction'],\n",
       " 'Seizure Disorders': ['epileptic seizures'],\n",
       " 'Cerebrovascular Disorders': ['acute cerebrovascular disease', 'stroke']}"
      ]
     },
     "execution_count": 50,
     "metadata": {},
     "output_type": "execute_result"
    }
   ],
   "source": [
    "result"
   ]
  },
  {
   "cell_type": "code",
   "execution_count": 49,
   "metadata": {},
   "outputs": [],
   "source": [
    "with open('sequelae_categories.json', 'w') as f:\n",
    "    json.dump(result, f, indent=4)"
   ]
  },
  {
   "cell_type": "markdown",
   "metadata": {},
   "source": [
    "### Query2: What are the risk factors for neurological sequelae (manifestations) of COVID-19 (coronavirus) infection?"
   ]
  },
  {
   "cell_type": "code",
   "execution_count": 52,
   "metadata": {},
   "outputs": [],
   "source": [
    "query2 = \"What are the risk factors for neurological sequelae (manifestations) of COVID-19 (coronavirus) infection?\""
   ]
  },
  {
   "cell_type": "code",
   "execution_count": 53,
   "metadata": {},
   "outputs": [
    {
     "name": "stdout",
     "output_type": "stream",
     "text": [
      "token count: 6884\n"
     ]
    }
   ],
   "source": [
    "query_embedding = get_embedding(query2)\n",
    "top20_related = get_top_related_abstracts(query_embedding, top_n=20)\n",
    "top20_related_pids = [pid for pid, _ in top20_related]\n",
    "related_abstracts = make_related_abstracts_text(pids=top20_related_pids)\n",
    "with open('related_abstracts_query2.txt', 'w') as f:\n",
    "    f.write(related_abstracts)\n",
    "prompt = generate_prompt(related_abstracts, query2)\n",
    "token_count = count_prompt_tokens(prompt)\n",
    "print('token count:', token_count)"
   ]
  },
  {
   "cell_type": "code",
   "execution_count": 56,
   "metadata": {},
   "outputs": [],
   "source": [
    "result = get_chat_completion(prompt)"
   ]
  },
  {
   "cell_type": "code",
   "execution_count": 57,
   "metadata": {},
   "outputs": [
    {
     "data": {
      "text/plain": [
       "'The abstracts do not specifically mention the risk factors for neurological sequelae of COVID-19 infection.'"
      ]
     },
     "execution_count": 57,
     "metadata": {},
     "output_type": "execute_result"
    }
   ],
   "source": [
    "result"
   ]
  },
  {
   "cell_type": "code",
   "execution_count": 74,
   "metadata": {},
   "outputs": [],
   "source": [
    "query2_2 = \"What impact factors (such as age, gender, ...) have been found for neurological sequelae (manifestations) of COVID-19 (coronavirus) infection?\""
   ]
  },
  {
   "cell_type": "code",
   "execution_count": 76,
   "metadata": {},
   "outputs": [
    {
     "name": "stdout",
     "output_type": "stream",
     "text": [
      "token count: 6898\n"
     ]
    }
   ],
   "source": [
    "query_ = query2_2\n",
    "query_num = \"2_2\"\n",
    "query_embedding = get_embedding(query_)\n",
    "top20_related = get_top_related_abstracts(query_embedding, top_n=20)\n",
    "top20_related_pids = [pid for pid, _ in top20_related]\n",
    "related_abstracts = make_related_abstracts_text(pids=top20_related_pids)\n",
    "with open(f'related_abstracts_query{query_num}.txt', 'w') as f:\n",
    "    f.write(related_abstracts)\n",
    "prompt = generate_prompt(related_abstracts, query_)\n",
    "token_count = count_prompt_tokens(prompt)\n",
    "print('token count:', token_count)"
   ]
  },
  {
   "cell_type": "code",
   "execution_count": 77,
   "metadata": {},
   "outputs": [],
   "source": [
    "result = get_chat_completion(prompt)"
   ]
  },
  {
   "cell_type": "code",
   "execution_count": 78,
   "metadata": {},
   "outputs": [
    {
     "name": "stdout",
     "output_type": "stream",
     "text": [
      "Based on the abstracts of the research papers, the following impact factors have been found for neurological sequelae (manifestations) of COVID-19 infection:\n",
      "\n",
      "1. Age: Older individuals are more susceptible to developing life-threatening COVID-19 and cerebrovascular disease, such as stroke. There is also a mild but inverse correlation with age for central nervous system (CNS) inflammatory diseases, such as encephalitis, as well as taste and/or smell disorders.\n",
      "\n",
      "2. Chronic neurological conditions: Patients with pre-existing neurological conditions may be at an elevated risk for COVID-19-associated neurological symptoms.\n",
      "\n",
      "3. Severity of COVID-19: Neurological symptoms are more common in patients with severe COVID-19 infection.\n",
      "\n",
      "4. Comorbidities: Increased age is associated with comorbid cardiovascular risk factors, including hypertension, diabetes mellitus, and lipid disorders. Obesity is correlated with the development of critical COVID-19.\n",
      "\n",
      "5. Pregnancy: COVID-19 infection during pregnancy has been found to be associated with an increased risk of obstetric complications that can lead to neurological acute and long-term manifestations in neonates.\n",
      "\n",
      "It is important to note that these findings are based on the abstracts of the research papers and may not represent the complete picture. For a more comprehensive understanding, it is recommended to refer to the full papers.\n"
     ]
    }
   ],
   "source": [
    "print(result)"
   ]
  },
  {
   "cell_type": "code",
   "execution_count": 111,
   "metadata": {},
   "outputs": [
    {
     "name": "stdout",
     "output_type": "stream",
     "text": [
      "token count: 6898\n"
     ]
    }
   ],
   "source": [
    "query2_2_2 = \"What impact factors (such as age, gender, ...) have been found for neurological sequelae (manifestations) of COVID-19 (coronavirus) infection?\"\n",
    "query_ = query2_2_2\n",
    "query_num = \"2_2_2\"\n",
    "query_embedding = get_embedding(query_)\n",
    "top20_related = get_top_related_abstracts(query_embedding, top_n=20)\n",
    "top20_related_pids = [pid for pid, _ in top20_related]\n",
    "related_abstracts = make_related_abstracts_text(pids=top20_related_pids)\n",
    "with open(f'related_abstracts_query{query_num}.txt', 'w') as f:\n",
    "    f.write(related_abstracts)\n",
    "prompt = generate_prompt(related_abstracts, query_)\n",
    "token_count = count_prompt_tokens(prompt)\n",
    "print('token count:', token_count)"
   ]
  },
  {
   "cell_type": "code",
   "execution_count": 112,
   "metadata": {},
   "outputs": [],
   "source": [
    "result = get_chat_completion(prompt, model='gpt-4')"
   ]
  },
  {
   "cell_type": "code",
   "execution_count": 113,
   "metadata": {},
   "outputs": [
    {
     "name": "stdout",
     "output_type": "stream",
     "text": [
      "Based on the abstracts, the following factors have been found to impact the neurological sequelae of COVID-19 infection:\n",
      "\n",
      "1. Age: Older individuals are more susceptible to developing life-threatening COVID-19 and cerebrovascular disease, such as stroke. A mild but inverse correlation with age was seen with CNS inflammatory diseases, such as encephalitis, as well as taste and/or smell disorders.\n",
      "\n",
      "2. Chronic Underlying Disease: Children with a severe chronic underlying disease have a higher incidence of neurological complications.\n",
      "\n",
      "3. Infants and Toddlers: Infants and toddlers have a higher incidence of neurological complications.\n",
      "\n",
      "4. Multisystem Inflammatory Syndrome (MIS-C): Patients who develop MIS-C have a higher incidence of neurological complications.\n",
      "\n",
      "5. Pregnancy: COVID-19 infection during pregnancy has been found associated with an increased risk of obstetric complications that can lead to neurological acute and long-term manifestations in neonates.\n",
      "\n",
      "6. Comorbidities: Increased age was also associated with comorbid cardiovascular risk factors, including hypertension, diabetes mellitus, and lipid disorders, but not with obesity. Obesity did correlate with the development of critical COVID-19.\n",
      "\n",
      "7. Pre-existing Neurological Conditions: Patients with pre-existing neurological conditions may be at elevated risk for COVID-19-associated neurological symptoms.\n"
     ]
    }
   ],
   "source": [
    "print(result)"
   ]
  },
  {
   "cell_type": "code",
   "execution_count": 114,
   "metadata": {},
   "outputs": [],
   "source": [
    "with open('result_query2_2_2.txt', 'w') as f:\n",
    "    f.write(result)"
   ]
  },
  {
   "cell_type": "code",
   "execution_count": 97,
   "metadata": {},
   "outputs": [
    {
     "name": "stdout",
     "output_type": "stream",
     "text": [
      "token count: 7045\n"
     ]
    }
   ],
   "source": [
    "format_prompt = '''\n",
    "Please use the following json format to answer the question\n",
    "{\"impact_factors1\": {\"description\": \"A description of the how impact_factor1 impact the neurological sequelae of COVID-19 infection\", \"titles\": [ \"title of papers that mention impact_factor1\", ...]}, \"impact_factors2\": {...}, ...}\n",
    "\n",
    "For example: {\"Age\": {\"description\": \"Older individuals are more susceptible to developing life-threatening COVID-19 and cerebrovascular disease, such as stroke. A mild but inverse correlation with age was seen with CNS inflammatory diseases, such as encephalitis, as well as taste and/or smell disorders.\", \"titles\": [\"Potential neurological manifestations of COVID-19: a narrative review.\"]}}\n",
    "'''\n",
    "prompt = generate_prompt(related_abstracts, query_, format_prompt=format_prompt)\n",
    "token_count = count_prompt_tokens(prompt)\n",
    "print('token count:', token_count)"
   ]
  },
  {
   "cell_type": "code",
   "execution_count": 98,
   "metadata": {},
   "outputs": [
    {
     "name": "stdout",
     "output_type": "stream",
     "text": [
      "Use the below abstracts of research papers from Long covid database to answer the subsequent question. If the answer cannot be found, write \"I don't know.\"\n",
      "Abstracts of research papers:\n",
      "\"\"\"\n",
      "Title: Are we sure that the neurological impact of COVID 19 in childhood has not been underestimated?\n",
      "Abstract: BACKGROUND: Presently, it is known that, even if less frequently than in adults, children can develop a severe new coronavirus disease 2019 (COVID-19). Children with the SARS-CoV-2 infection can have neurological signs and symptoms of disease more frequently than previously thought, revealing the involvement of the central nervous system, the peripheral nervous system, or both. Aim of this manuscript is to highlight the neurologic complications associated with SARS-CoV-2 among pediatric patients with COVID-19, suggesting when to monitor carefully neurologic development.MAIN FINDINGS: Children with a severe chronic underlying disease, infants and toddlers and those who develop the so-called multisystem inflammatory syndrome (MIS-C) are those with the highest incidence of neurological complications. Fortunately, in most of the cases, neurological manifestations, mainly represented by headache and anosmia, are mild and transient and do not significantly complicate the COVID-19 course. However, in some cases, very severe clinical problems associated with relevant alterations of neuroimaging, electroencephalography, nerve conduction studies and electromyography findings can develop. Generally, almost all the children with COVID-19 and neurological manifestations till now described have made a complete recovery, although in some cases this has occurred after several weeks of treatment. Moreover, COVID-19 infection during pregnancy has been found associated with an increased risk of obstetric complications that can lead to neurological acute and long-term manifestations in neonates.CONCLUSIONS: Based on data showing the neurologic impact of COVID-19 in pediatric age, we suggest monitoring neurological development a few months after healing in pediatric patients who have presented MIS-C, seizures or other neurological manifestations and in children of pregnant women with COVID-19 in order to detect overt and subtle deficits.\n",
      "---\n",
      "Title: Lifting the mask on neurological manifestations of COVID-19.\n",
      "Abstract: As the severe acute respiratory syndrome coronavirus 2 (SARS-CoV-2) epidemic spreads, it is becoming increasingly evident that coronavirus disease 2019 (COVID-19) is not limited to the respiratory system, and that other organs can be affected. In particular, virus-related neurological manifestations are being reported more and more frequently in the scientific literature. In this article, we review the literature on the association between COVID-19 and neurological manifestations, present evidence from preclinical research suggesting that SARS-CoV-2 could be responsible for many of these manifestations, and summarize the biological pathways that could underlie each neurological symptom. Understanding the mechanisms that lead to neurological manifestations in patients with COVID-19 and how these manifestations correlate with clinical outcomes will be instrumental in guiding the optimal use of targeted therapeutic strategies.\n",
      "---\n",
      "Title: Age-Associated Neurological Complications of COVID-19: A Systematic Review and Meta-Analysis.\n",
      "Abstract: The outbreak of the novel and highly infectious severe acute respiratory syndrome coronavirus-2 (SARS-CoV-2) has resulted in hundreds of millions of infections and millions of deaths globally. Infected individuals that progress to coronavirus disease-19 (COVID-19) experience upper and lower respiratory complications that range in severity and may lead to wide-spread inflammation and generalized hypoxia or hypoxemia that impacts multiple organ systems, including the central and peripheral nervous systems. Since the SARS-CoV-2 outbreak, multiple reports continue to emerge that detail neurological symptoms, ranging from relatively mild (e.g., impaired taste and/or smell) to severe (e.g., stroke), suggesting SARS-CoV-2 may be neurotropic and/or contribute to nervous system injury through direct and/or indirect mechanisms. To gain insight into the types of neurological complications associated with SARS-CoV-2 infection and their possible relationship with age, sex, COVID-19 severity, and comorbidities, we performed a systematic review of case reports and series published in 2020 - April 4, 2021 of infected patients with neurological manifestations. Meta-analyses were conducted using individual patient data from reports where these data could be extracted. Here, we report neurological injury occurs across the lifespan in the context of infection, with and without known comorbidities, and with all disease severities, including asymptomatic patients. Older individuals, however, are more susceptible to developing life-threatening COVID-19 and cerebrovascular disease (CVD), such as stroke. A mild but inverse correlation with age was seen with CNS inflammatory diseases, such as encephalitis, as well as taste and/or smell disorders. When reported, increased age was also associated with comorbid cardiovascular risk factors, including hypertension, diabetes mellitus, and lipid disorders, but not with obesity. Obesity did correlate with development of critical COVID-19. Discussion into potential pathophysiological mechanisms by which neurological symptoms arise and long-term consequences of infection to the nervous system is also provided.\n",
      "---\n",
      "Title: Environmental Issues and Neurological Manifestations Associated with COVID-19 Pandemic: New Aspects of the Disease?\n",
      "Abstract: Coronavirus (SARS-CoV-2) emerged in China in December 2019 and rapidly caused a global health pandemic. Current evidence seems to suggest a possible link with ecosystem disequilibrium and even air pollution. The primary manifestations affect respiratory and circulatory systems, but neurological features are also being reported through case reports and case series. We summarize neurological symptoms and complications associated with COVID-19. We have searched for original articles published in PubMed/Medline, PubMed Central and Google Scholar using the following keywords: \"COVID-19\", \"Coronavirus\", \"pandemic\", \"SARS-COV-2\", \"neurology\", \"neurological\", \"complications\" and \"manifestations\". We found around 1000 publications addressing the issue of neurological conditions associated with COVID-19 infection. Amongst those, headache and dizziness are the most common reported symptoms followed by encephalopathy and delirium, while the most frequent complications are cerebrovascular accidents, Guillain-Barré syndrome, acute transverse myelitis, and acute encephalitis. Specific symptoms affecting the peripheral nervous system such as hyposmia and dysgeusia are the most common manifestations recorded in the selected studies. Interestingly, it was noted that these kinds of neurological symptoms might precede the typical features, such as fever and cough, in COVID patients. Neurological symptoms and complications associated with COVID-19 should be considered as a part of the clinical features of this novel global pandemic.\n",
      "---\n",
      "Title: Neurological manifestations of COVID-19: available evidences and a new paradigm.\n",
      "Abstract: The recent pandemic outbreak of coronavirus is pathogenic and a highly transmittable viral infection caused by Severe Acute Respiratory Syndrome Coronavirus 2 (SARS-CoV2). In this time of ongoing pandemic, many emerging reports suggested that the SARS-CoV-2 has inimical effects on neurological functions, and even causes serious neurological damage. The neurological symptoms associated with COVID-19 include headache, dizziness, depression, anosmia, encephalitis, stroke, epileptic seizures, and Guillain-Barre syndrome along with many others. The involvement of the CNS may be related with poor prognosis and disease worsening. Here, we review the evidence of nervous system involvement and currently known neurological manifestations in COVID-19 infections caused by SARS-CoV-2. We prioritize the 332 human targets of SARS-CoV-2 according to their association with brain-related disease and identified 73 candidate genes. We prioritize these 73 genes according to their spatio-temporal expression in the different regions of brain and also through evolutionary intolerance analysis. The prioritized genes could be considered potential indicators of COVID-19-associated neurological symptoms and thus act as a possible therapeutic target for the prevention and treatment of CNS manifestations associated with COVID-19 patients.\n",
      "---\n",
      "Title: COVID-19 Pandemic and Neurological Disease: A Critical Review of the Existing Literature.\n",
      "Abstract: Most of what we know about the coronavirus disease 2019 (COVID-19) is limited to what we know about severe acute respiratory syndrome (SARS) and COVID-19's epidemiology, fatality, and acute care. However, infection with COVID-19 may also involve the central nervous system (CNS), which may or may not be due to a multi-organ injury. Our aim in this paper is to briefly summarize the main aspects of the growing literature on neurological manifestations of the COVID-19 infection. As such, after mentioning some general background on the economic and medical implications of the pandemic on individuals, the healthcare system, and the society, we summarize some common aspects of the published literature on neurological manifestations of the COVID-19 infection. We also highlight the existing gaps in the literature, which requires additional work. The most common neurological manifestation of COVID-19 infection is an olfactory deficit. However, it is still unknown if it is inflammatory or degenerative in nature. Still, the incidence of neurological complications, and also their mechanisms and treatments are unknown. This literature is predominantly composed of opinions and reviews rather than original articles, so the patients' data are not used for a majority of the studies. Multi-center studies that not only conduct chest CT or MRI but also brain CT or MRI are needed. Randomized trials are still required on the management of acute and chronic neurological conditions due to COVID-19 infection. Cohort studies may also determine the natural history of the conditions and factors that are prognostic. Furthermore, while disparities in COVID-19 infections are known, inequalities in neurological manifestations are unknown. Besides this, the efficacy of specific treatments on CNS involvement is still unknown. We will discuss the health care needs of patients with chronic neurological conditions. We Included a few recommendations for practice and further research at the end of this paper.\n",
      "---\n",
      "Title: Neurological Sequelae of COVID-19.\n",
      "Abstract: BACKGROUND: Though primarily a pulmonary disease, Coronavirus disease 2019 (COVID-19) caused by the SARS-CoV-2 virus can generate devastating disease states that affect multiple organ systems including the central nervous system (CNS). The various neurological disorders associated with COVID-19 range in severity from mild symptoms such as headache, or myalgias to more severe symptoms such as stroke, psychosis, and anosmia. While some of the COVID-19 associated neurological complications are mild and reversible, a significant number of patients suffer from stroke. Studies have shown that COVID-19 infection triggers a wave of inflammatory cytokines that induce endothelial cell dysfunction and generate coagulopathy that increases the risk of stroke or thromboses. Inflammation of the endothelium following infection may also destabilize atherosclerotic plaque and induce thrombotic stroke. Although uncommon, there have also been reports of hemorrhagic stroke associated with COVID-19. The proposed mechanisms include a blood pressure increase caused by infection leading to a reduction in angiotensin converting enzyme-2 (ACE-2) levels that results in an imbalance of the renin-angiotensin system ultimately manifesting inflammation and vasoconstriction. Coagulopathy, as demonstrated by elevated prothrombin time (PT), has also been posited as a factor contributing to hemorrhagics stroke in patients with COVID-19. Other neurological conditions associated with COVID-19 include encephalopathy, anosmia, encephalitis, psychosis, brain fog, headache, depression, and anxiety. Though there are several hypotheses reported in the literature, a unifying pathophysiological mechanism of many of these disorders remains unclear. Pulmonary dysfunction leading to poor oxygenation of the brain may explain encephalopathy and other disorders in COVID-19 patients. Alternatively, a direct invasion of the CNS by the virus or breach of the blood-brain barrier by the systemic cytokines released during infection may be responsible for these conditions. Notwithstanding, the relationship between the inflammatory cytokine levels and conditions such as depression and anxiety is contradictory and perhaps the social isolation during the pandemic may in part be a contributing factor to some of the reported CNS disorders.OBJECTIVE: In this article, we review the current literature pertaining to some of the most significant and common neurological disorders such as ischemic and hemorrhagic stroke, encephalopathy, encephalitis, brain fog, Long COVID, headache, Guillain-Barre syndrome, depression, anxiety, and sleep disorders in the setting of COVID-19. We summarize some of the most relevant literature to provide a better understanding of the mechanistic details regarding these disorders in order to help physicians monitor and treat patients for significant COVID-19 associated neurologic impairments.METHODS: A literature review was carried out by the authors using PubMed with the search terms \"COVID-19\" and \"Neurology\", \"Neurological Manifestations\", \"Neuropsychiatric Manifestations\", \"Stroke\", \"Encephalopathy\", \"Headache\", \"Guillain-Barre syndrome\", \"Depression\", \"Anxiety\", \"Encephalitis\", \"Seizure\", \"Spasm\", and \"ICUAW\". Another search was carried out for \"Long-COVID\" and \"Post-Acute COVID-19\" and \"Neurological Manifestations\" or \"Neuropsychiatric Manifestations\". Articles such as case reports, case series, and cohort studies were included as references. No language restrictions were enforced. In the case of anxiety and depression, attempts were made to focus mainly on articles describing these conditions in infected patients.RESULTS: A total of 112 articles were reviewed. The incidence, clinical outcomes, and pathophysiology of selected neurological disorders are discussed below. Given the recent advent of this disease, the incidence of certain neurologic sequelae was not always available. Putative mechanisms for each condition in the setting of COVID-19 are outlined.\n",
      "---\n",
      "Title: A Contemporary Review of Neurological Sequelae of COVID-19.\n",
      "Abstract: Coronavirus 2019 (COVID-19) is currently the center of what has become a public health crisis. While the virus is well-known for its trademark effects on respiratory function, neurological damage has been reported to affect a considerable proportion of severe cases. To characterize the neuro-invasive potential of this disease, a contemporary review of COVID-19 and its neurological sequelae was conducted using the limited, but growing, literature that is available. These neurological squeal are based on the manifestations that the virus has on normal central and peripheral nervous system function. The authors present the virology of the SARS-CoV-2 agent by analyzing its classification as an enveloped, positive-stranded RNA virus. A comprehensive timeline is then presented, indicating the progression of the disease as a public health threat. Furthermore, underlying chronic neurological conditions potentially lead to more adverse cases of COVID-19. SARS-CoV-2 may reach ACE2 receptors on neuronal tissue through mode of the general circulation. The CNS may also be susceptible to an immune response where a \"cytokine storm\" can manifest into neural injury. Histological evidence is provided, while symptoms such as headache and vertigo are highlighted as CNS manifestations of COVID-19. Treatment of these symptoms is addressed with paracetamol being recommended as a possible, but not conclusive, treatment to some CNS symptoms. The authors then discuss the peripheral nervous system sequelae and COVID's impact on causing chemosensory dysfunction starting with viral attack on olfactory sensory neurons and cells types within the lining of the nose. Histological evidence is also provided while symptoms such as anosmia and ageusia are characterized as PNS manifestations. Possible treatment options for these symptoms are then addressed as a major limitation, as anecdotal, and not conclusive evidence can be made. Finally, preventive measures of the neurological sequelae are addressed using a multidirectional approach. Postmortem examinations of the brains of COVID-19 patients are suggested as being a possible key to formulating new understandings of its neuropathology. Lastly, the authors suggest a more comprehensive neurological follow-up of recovered patients, in order to better characterize the neurological sequelae of this illness.\n",
      "---\n",
      "Title: Neurological manifestations of COVID-19: A comprehensive literature review and discussion of mechanisms.\n",
      "Abstract: Several neurological symptoms and complications have been described in association with COVID-19, such as anosmia, ageusia, encephalitis and Guillain-Barré syndrome. Here, we review the literature describing SARS-CoV-2-induced neurological manifestations and provide a comprehensive discussion of proposed mechanisms underlying the neurological pathophysiology. First, we analyse the neuroinvasiveness potential of the coronavirus family based on previous SARS-CoV-1 studies. Then, we describe the current evidence on COVID-19-induced nervous tissue damage, including processes behind brain vasculopathy and cytokine storm. We also discuss in detail anosmia and Guillain-Barré syndrome. Finally, we provide a summarised timeline of the main findings in the field. Future perspectives are presented, and suggestions of further investigations to clarify how SARS-COV-2 can affect the CNS.\n",
      "---\n",
      "Title: Neurological Manifestations of COVID-19 (SARS-CoV-2): A Review.\n",
      "Abstract: Background: Coronavirus disease 2019 (COVID-19), caused by severe acute respiratory syndrome coronavirus 2 (SARS-CoV-2), has been associated with many neurological symptoms but there is a little evidence-based published material on the neurological manifestations of COVID-19. The purpose of this article is to review the spectrum of the various neurological manifestations and underlying associated pathophysiology in COVID-19 patients. Method: We conducted a review of the various case reports and retrospective clinical studies published on the neurological manifestations, associated literature, and related pathophysiology of COVID-19 using PUBMED and subsequent proceedings. A total of 118 articles were thoroughly reviewed in order to highlight the plausible spectrum of neurological manifestations of COVID 19. Every article was either based on descriptive analysis, clinical scenarios, correspondence, and editorials emphasizing the neurological manifestations either directly or indirectly. We then tried to highlight the significant plausible manifestations and complications that could be related to the pandemic. With little known about the dynamics and the presentation spectrum of the virus apart from the respiratory symptoms, this area needs further consideration. Conclusion: The neurological manifestations associated with COVID-19 such as Encephalitis, Meningitis, acute cerebrovascular disease, and Guillain Barré Syndrome (GBS) are of great concern. But in the presence of life-threatening abnormal vitals in severely ill COVID-19 patients, these are not usually underscored. There is a need to diagnose these manifestations at the earliest to limit long term sequelae. Much research is needed to explore the role of SARS-CoV-2 in causing these neurological manifestations by isolating it either from cerebrospinal fluid or brain tissues of the deceased on autopsy. We also recommend exploring the risk factors that lead to the development of these neurological manifestations.\n",
      "---\n",
      "Title: Neurological Aspects of SARS-CoV-2 Infection: Mechanisms and Manifestations.\n",
      "Abstract: The human infection of the novel severe acute respiratory syndrome coronavirus 2 (SARS-CoV-2) is a public health emergency of international concern that has caused more than 16.8 million new cases and 662,000 deaths as of July 30, 2020. Although coronavirus disease 2019 (COVID-19), which is associated with this virus, mainly affects the lungs, recent evidence from clinical and pathological studies indicates that this pathogen has a broad infective ability to spread to extrapulmonary tissues, causing multiorgan failure in severely ill patients. In this regard, there is increasing preoccupation with the neuroinvasive potential of SARS-CoV-2 due to the observation of neurological manifestations in COVID-19 patients. This concern is also supported by the neurotropism previously documented in other human coronaviruses, including the 2002-2003 SARS-CoV-1 outbreak. Hence, in the current review article, we aimed to summarize the spectrum of neurological findings associated with COVID-19, which include signs of peripheral neuropathy, myopathy, olfactory dysfunction, meningoencephalitis, Guillain-Barré syndrome, and neuropsychiatric disorders. Furthermore, we analyze the mechanisms underlying such neurological sequela and discuss possible therapeutics for patients with neurological findings associated with COVID-19. Finally, we describe the host- and pathogen-specific factors that determine the tissue tropism of SARS-CoV-2 and possible routes employed by the virus to invade the nervous system from a pathophysiological and molecular perspective. In this manner, the current manuscript contributes to increasing the current understanding of the neurological aspects of COVID-19 and the impact of the current pandemic on the neurology field.\n",
      "---\n",
      "Title: Neurological toll of COVID-19.\n",
      "Abstract: The first case of coronavirus illness was discovered in Wuhan, China, in January 2020 and quickly spread worldwide within the next couple of months. The condition was initially only linked with respiratory disorders. After the evolution of various variants of the SARS-CoV-2, the critical impact of the virus spread to multiple organs and soon, neurological disorder manifestations started to appear in the infected patients. The review is focused on the manifestation of various neurological disorders linked with both the central nervous system and peripheral nervous system. Disorders such as cytokine release syndrome, encephalitis, acute stroke, and Bell's palsy are given specific attention and psychological manifestations are also investigated. For a clear conclusion, cognitive impairment, drug addiction disorders, mood and anxiety disorders, and post-traumatic stress disorder are all fully examined. The association of the SARS-CoV-2 with neurological disorders and pathway is yet to be clear. For better understanding, the explanation of the possible mechanism of viral infection influencing the nervous system is also attempted in the review. While several vaccines and drugs are already involved in treating the SARS-CoV-2 condition, the disease is still considered fatal and more likely to leave permanent neurological damage, which leads to an essential requirement for more research to explore the neurological toll of the COVID-19 disease.\n",
      "---\n",
      "Title: Potential neurological manifestations of COVID-19: a narrative review.\n",
      "Abstract: Neurological manifestations are increasingly reported in a subset of COVID-19 patients. Previous infections related to coronaviruses, namely Severe Acute Respiratory Syndrome (SARS) and Middle Eastern Respiratory Syndrome (MERS) also appeared to have neurological effects on some patients. The viruses associated with COVID-19 like that of SARS enters the body via the ACE-2 receptors in the central nervous system, which causes the body to balance an immune response against potential damage to nonrenewable cells. A few rare cases of neurological sequelae of SARS and MERS have been reported. A growing body of evidence is accumulating that COVID-19, particularly in severe cases, may have neurological consequences although respiratory symptoms nearly always develop prior to neurological ones. Patients with preexisting neurological conditions may be at elevated risk for COVID-19-associated neurological symptoms. Neurological reports in COVID-19 patients have described encephalopathy, Guillain-Barré syndrome, myopathy, neuromuscular disorders, encephalitis, cephalgia, delirium, critical illness polyneuropathy, and others. Treating neurological symptoms can pose clinical challenges as drugs that suppress immune response may be contraindicated in COVID-19 patients. It is possible that in some COVID-19 patients, neurological symptoms are being overlooked or misinterpreted. To date, neurological manifestations of COVID-19 have been described largely within the disease trajectory and the long-term effects of such manifestations remain unknown.\n",
      "---\n",
      "Title: Neurological complications of coronavirus infection; a comparative review and lessons learned during the COVID-19 pandemic.\n",
      "Abstract: INTRODUCTION: Coronavirus disease-19 (COVID-19) pandemic continues to grow all over the world. Several studies have been performed, focusing on understanding the acute respiratory syndrome and treatment strategies. However, there is growing evidence indicating neurological manifestations occur in patients with COVID-19. Similarly, the other coronaviruses (CoV) epidemics; severe acute respiratory syndrome (SARS-CoV-1) and Middle East respiratory syndrome (MERS-CoV) have been associated with neurological complications.METHODS: This systematic review serves to summarize available information regarding the potential effects of different types of CoV on the nervous system and describes the range of clinical neurological complications that have been reported thus far in COVID-19.RESULTS: Two hundred and twenty-five studies on CoV infections associated neurological manifestations in human were reviewed. Of those, 208 articles were pertinent to COVID-19. The most common neurological complaints in COVID-19 were anosmia, ageusia, and headache, but more serious complications, such as stroke, impairment of consciousness, seizures, and encephalopathy, have also been reported.CONCLUSION: There are several similarities between neurological complications after SARS-CoV-1, MERS-CoV and COVID-19, however, the scope of the epidemics and number of patients are very different. Reports on the neurological complications after and during COVID-19 are growing on a daily basis. Accordingly, comprehensive knowledge of these complications will help health care providers to be attentive to these complications and diagnose and treat them timely.\n",
      "---\n",
      "Title: COVID-19 and its effects on neurological functions.\n",
      "Abstract: Ever since the first reported case series on SARS-CoV-2-induced neurological manifestation in Wuhan, China in April 2020, various studies reporting similar as well as diverse symptoms of COVID-19 infection relating to the nervous system were published. Since then, scientists started to uncover the mechanism as well as pathophysiological impacts it has on the current understanding of the disease. SARS-CoV-2 binds to the ACE2 receptor which is present in certain parts of the body which are responsible for regulating blood pressure and inflammation in a healthy system. Presence of the receptor in the nasal and oral cavity, brain, and blood allows entry of the virus into the body and cause neurological complications. The peripheral and central nervous system could also be invaded directly in the neurogenic or hematogenous pathways, or indirectly through overstimulation of the immune system by cytokines which may lead to autoimmune diseases. Other neurological implications such as hypoxia, anosmia, dysgeusia, meningitis, encephalitis, and seizures are important symptoms presented clinically in COVID-19 patients with or without the common symptoms of the disease. Further, patients with higher severity of the SARS-CoV-2 infection are also at risk of retaining some neurological complications in the long-run. Treatment of such severe hyperinflammatory conditions will also be discussed, as well as the risks they may pose to the progression of the disease. For this review, articles pertaining information on the neurological manifestation of SARS-CoV-2 infection were gathered from PubMed and Google Scholar using the search keywords \"SARS-CoV-2\", \"COVID-19\", and \"neurological dysfunction\". The findings of the search were filtered, and relevant information were included.\n",
      "---\n",
      "Title: Neurological manifestations of COVID-19: A brief review.\n",
      "Abstract: The COVID-19 pandemic, caused by severe acute respiratory syndrome coronavirus 2 (SARS-CoV-2), has been predominantly a respiratory manifestation. Currently, with evolving literature, neurological signs are being increasingly recognized. Studies have reported that SARS-CoV-2 affects all aspects of the nervous system including the central nervous system (CNS), peripheral nervous system (PNS) and the muscular system as well. Not all patients have reverse transcription-polymerase chain reaction positive for the virus in the cerebrospinal fluid, and diagnosing the association of the virus with the myriad of neurological manifestations can be a challenge. It is important that clinicians have a high-index of suspicion for COVID-19 in patients presenting with new-onset neurological symptoms. This will lead to early diagnosis and specific management. Further studies are desired to unravel the varied neurological manifestations, treatment, outcome and long-term sequel in COVID-19 patients.\n",
      "---\n",
      "Title: Neuropsychiatric and Cognitive Sequelae of COVID-19.\n",
      "Abstract: Coronavirus disease 2019 (COVID-19) is likely to have long-term mental health effects on individuals who have recovered from COVID-19. Rightly, there is a global response for recognition and planning on how to deal with mental health problems for everyone impacted by the global pandemic. This does not just include COVID-19 patients but the general public and health care workers as well. There is also a need to understand the role of the virus itself in the pathophysiology of mental health disorders and longer-term mental health sequelae. Emerging evidence suggests that COVID-19 patients develop neurological symptoms such as headache, altered consciousness, and paraesthesia. Brain tissue oedema and partial neurodegeneration have also been observed in an autopsy. In addition, there are reports that the virus has the potential to cause nervous system damage. Together, these findings point to a possible role of the virus in the development of acute psychiatric symptoms and long-term neuropsychiatric sequelae of COVID-19. The brain pathologies associated with COVID-19 infection is likely to have a long-term impact on cognitive processes. Evidence from other viral respiratory infections, such as severe acute respiratory syndrome (SARS), suggests a potential development of psychiatric disorders, long-term neuropsychiatric disorders, and cognitive problems. In this paper, we will review and evaluate the available evidence of acute and possible long-term neuropsychiatric manifestations of COVID-19. We will discuss possible pathophysiological mechanisms and the implications this will have on preparing a long-term strategy to monitor and manage such patients.\n",
      "---\n",
      "Title: Long-Term Effects of SARS-CoV-2 in the Brain: Clinical Consequences and Molecular Mechanisms.\n",
      "Abstract: Numerous investigations have demonstrated significant and long-lasting neurological manifestations of COVID-19. It has been suggested that as many as four out of five patients who sustained COVID-19 will show one or several neurological symptoms that can last months after the infection has run its course. Neurological symptoms are most common in people who are less than 60 years of age, while encephalopathy is more common in those over 60. Biological mechanisms for these neurological symptoms need to be investigated and may include both direct and indirect effects of the virus on the brain and spinal cord. Individuals with Alzheimer's disease (AD) and related dementia, as well as persons with Down syndrome (DS), are especially vulnerable to COVID-19, but the biological reasons for this are not clear. Investigating the neurological consequences of COVID-19 is an urgent emerging medical need, since close to 700 million people worldwide have now had COVID-19 at least once. It is likely that there will be a new burden on healthcare and the economy dealing with the long-term neurological consequences of severe SARS-CoV-2 infections and long COVID, even in younger generations. Interestingly, neurological symptoms after an acute infection are strikingly similar to the symptoms observed after a mild traumatic brain injury (mTBI) or concussion, including dizziness, balance issues, anosmia, and headaches. The possible convergence of biological pathways involved in both will be discussed. The current review is focused on the most commonly described neurological symptoms, as well as the possible molecular mechanisms involved.\n",
      "---\n",
      "Title: Neuropsychiatric Disorders and COVID-19: What We Know So Far.\n",
      "Abstract: SARS-CoV-2 (Severe Acute Respiratory Syndrome Coronavirus-2) affects the central nervous system (CNS), which is shown in a significant number of patients with neurological events. In this study, an updated literature review was carried out regarding neurological disorders in COVID-19. Neurological symptoms are more common in patients with severe infection according to their respiratory status and divided into three categories: (1) CNS manifestations; (2) cranial and peripheral nervous system manifestations; and (3) skeletal muscle injury manifestations. Patients with pre-existing cerebrovascular disease are at a higher risk of admission to the intensive care unit (ICU) and mortality. The neurological manifestations associated with COVID-19 are of great importance, but when life-threatening abnormal vital signs occur in severely ill COVID-19 patients, neurological problems are usually not considered. It is crucial to search for new treatments for brain damage, as well as for alternative therapies that recover the damaged brain and reduce the inflammatory response and its consequences for other organs. In addition, there is a need to diagnose these manifestations as early as possible to limit long-term consequences. Therefore, much research is needed to explain the involvement of SARS-CoV-2 causing these neurological symptoms because scientists know zero about it.\n",
      "---\n",
      "Title: Neurological manifestations of COVID-19: with emphasis on Iranian patients.\n",
      "Abstract: The novel coronavirus disease 2019 (COVID-19) caused by the severe acute respiratory syndrome coronavirus 2 (SARS-CoV-2) has instigated a global pandemic as a formidable and highly contagious infectious disease. Although the respiratory system remains the most frequently affected organ, several case reports have revealed that the complications are not merely limited to the respiratory system, and neurotropic and neuroinvasive properties have also been observed, leading to neurological diseases. In the present paper, it was intended to review the possible neuroinvasive routes of SARS-CoV-2 and its mechanisms that may cause neurological damage. Additionally, the neurological manifestations of COVID-19 across the globe were discussed with emphasis on Iran, while highlighting the impact of SARS-CoV-2 on the central and peripheral nervous systems.\n",
      "---\n",
      "\n",
      "\"\"\"\n",
      "\n",
      "Question: What impact factors (such as age, gender, ...) have been found for neurological sequelae (manifestations) of COVID-19 (coronavirus) infection?\n",
      "\n",
      "Format: \n",
      "Please use the following json format to answer the question\n",
      "{\"impact_factors1\": {\"description\": \"A description of the how impact_factor1 impact the neurological sequelae of COVID-19 infection\", \"titles\": [ \"title of papers that mention impact_factor1\", ...]}, \"impact_factors2\": {...}, ...}\n",
      "\n",
      "For example: {\"Age\": {\"description\": \"Older individuals are more susceptible to developing life-threatening COVID-19 and cerebrovascular disease, such as stroke. A mild but inverse correlation with age was seen with CNS inflammatory diseases, such as encephalitis, as well as taste and/or smell disorders.\", \"titles\": [\"Potential neurological manifestations of COVID-19: a narrative review.\"]}}\n",
      "\n"
     ]
    }
   ],
   "source": [
    "print(prompt)"
   ]
  },
  {
   "cell_type": "code",
   "execution_count": 99,
   "metadata": {},
   "outputs": [],
   "source": [
    "result = get_chat_completion(prompt, model='gpt-4')"
   ]
  },
  {
   "cell_type": "code",
   "execution_count": 103,
   "metadata": {},
   "outputs": [],
   "source": [
    "result = json.loads(result)"
   ]
  },
  {
   "cell_type": "code",
   "execution_count": 104,
   "metadata": {},
   "outputs": [
    {
     "data": {
      "text/plain": [
       "dict_keys(['Age', 'Gender', 'Pre-existing neurological conditions', 'Severity of COVID-19 infection', 'Pregnancy'])"
      ]
     },
     "execution_count": 104,
     "metadata": {},
     "output_type": "execute_result"
    }
   ],
   "source": [
    "result.keys()"
   ]
  },
  {
   "cell_type": "code",
   "execution_count": 105,
   "metadata": {},
   "outputs": [],
   "source": [
    "with open('impact_factors.json', 'w') as f:\n",
    "    json.dump(result, f, indent=4)"
   ]
  },
  {
   "cell_type": "code",
   "execution_count": 116,
   "metadata": {},
   "outputs": [
    {
     "name": "stdout",
     "output_type": "stream",
     "text": [
      "token count: 7142\n"
     ]
    }
   ],
   "source": [
    "prompt = f'''The following factors have been found to impact the neurological sequelae of COVID-19 infection:\n",
    "1. Age: Older individuals are more susceptible to developing life-threatening COVID-19 and cerebrovascular disease, such as stroke. A mild but inverse correlation with age was seen with CNS inflammatory diseases, such as encephalitis, as well as taste and/or smell disorders.\n",
    "\n",
    "2. Pre-existing neurological conditions: Patients with pre-existing neurological conditions may be at elevated risk for COVID-19-associated neurological symptoms.\n",
    "\n",
    "3. Severity of COVID-19 infection: Neurological symptoms are more common in patients with severe infection according to their respiratory status.\n",
    "\n",
    "4. Chronic underlying disease in children: Children with a severe chronic underlying disease, infants and toddlers, and those who develop the so-called multisystem inflammatory syndrome (MIS-C) are those with the highest incidence of neurological complications.\n",
    "\n",
    "5. Pregnancy: COVID-19 infection during pregnancy has been found associated with an increased risk of obstetric complications that can lead to neurological acute and long-term manifestations in neonates.\n",
    "\n",
    "6. Comorbid cardiovascular risk factors: Increased age was also associated with comorbid cardiovascular risk factors, including hypertension, diabetes mellitus, and lipid disorders, but not with obesity. \n",
    "\n",
    "7. Obesity: Obesity did correlate with the development of critical COVID-19.\n",
    "\n",
    "These factors are found in the following abstracts of papers:\n",
    "{related_abstracts}\n",
    "\n",
    "Please find the corresponding abstracts of papers for each factor and write them in the following json format:\n",
    "{'{\"Age\": [\"title of papers that mention Age\", ...], \"Pre-existing neurological conditions\": [...], ...}'}\n",
    "'''\n",
    "\n",
    "token_count = count_prompt_tokens(prompt)\n",
    "print('token count:', token_count)"
   ]
  },
  {
   "cell_type": "code",
   "execution_count": 117,
   "metadata": {},
   "outputs": [],
   "source": [
    "result = get_chat_completion(prompt, model='gpt-4', system_prompt='You are an expert in medical field and help users do a variety of tasks based on your expertise.')"
   ]
  },
  {
   "cell_type": "code",
   "execution_count": 119,
   "metadata": {},
   "outputs": [],
   "source": [
    "result = json.loads(result)"
   ]
  },
  {
   "cell_type": "code",
   "execution_count": 121,
   "metadata": {},
   "outputs": [
    {
     "data": {
      "text/plain": [
       "{'Age': ['Age-Associated Neurological Complications of COVID-19: A Systematic Review and Meta-Analysis.',\n",
       "  'Neurological Sequelae of COVID-19.',\n",
       "  'Neurological Aspects of SARS-CoV-2 Infection: Mechanisms and Manifestations.',\n",
       "  'Neurological manifestations of COVID-19: A brief review.',\n",
       "  'Long-Term Effects of SARS-CoV-2 in the Brain: Clinical Consequences and Molecular Mechanisms.'],\n",
       " 'Pre-existing neurological conditions': ['Neurological manifestations of COVID-19: with emphasis on Iranian patients.',\n",
       "  'Neuropsychiatric Disorders and COVID-19: What We Know So Far.',\n",
       "  'Neurological manifestations of COVID-19: A brief review.'],\n",
       " 'Severity of COVID-19 infection': ['Neurological manifestations of COVID-19: with emphasis on Iranian patients.',\n",
       "  'Neurological manifestations of COVID-19: A brief review.',\n",
       "  'Neurological Sequelae of COVID-19.',\n",
       "  'Neurological Aspects of SARS-CoV-2 Infection: Mechanisms and Manifestations.',\n",
       "  'Neurological manifestations of COVID-19: A brief review.'],\n",
       " 'Chronic underlying disease in children': ['Are we sure that the neurological impact of COVID 19 in childhood has not been underestimated?'],\n",
       " 'Pregnancy': ['Are we sure that the neurological impact of COVID 19 in childhood has not been underestimated?'],\n",
       " 'Comorbid cardiovascular risk factors': ['Age-Associated Neurological Complications of COVID-19: A Systematic Review and Meta-Analysis.'],\n",
       " 'Obesity': ['Age-Associated Neurological Complications of COVID-19: A Systematic Review and Meta-Analysis.']}"
      ]
     },
     "execution_count": 121,
     "metadata": {},
     "output_type": "execute_result"
    }
   ],
   "source": [
    "result"
   ]
  },
  {
   "cell_type": "code",
   "execution_count": 120,
   "metadata": {},
   "outputs": [],
   "source": [
    "with open('impact_factors_title.json', 'w') as f:\n",
    "    json.dump(result, f, indent=4)"
   ]
  },
  {
   "cell_type": "markdown",
   "metadata": {},
   "source": [
    "### Query3: What COVID-19 (coronavirus) subtypes have been found to cause neurological sequelae (manifestations) in existing research?"
   ]
  },
  {
   "cell_type": "code",
   "execution_count": 58,
   "metadata": {},
   "outputs": [],
   "source": [
    "query3 = \"What COVID-19 (coronavirus) subtypes have been found to cause neurological sequelae (manifestations) in existing research?\""
   ]
  },
  {
   "cell_type": "code",
   "execution_count": 59,
   "metadata": {},
   "outputs": [
    {
     "name": "stdout",
     "output_type": "stream",
     "text": [
      "token count: 6700\n"
     ]
    }
   ],
   "source": [
    "query_ = query3\n",
    "query_num = 3\n",
    "query_embedding = get_embedding(query_)\n",
    "top20_related = get_top_related_abstracts(query_embedding, top_n=20)\n",
    "top20_related_pids = [pid for pid, _ in top20_related]\n",
    "related_abstracts = make_related_abstracts_text(pids=top20_related_pids)\n",
    "with open(f'related_abstracts_query{query_num}.txt', 'w') as f:\n",
    "    f.write(related_abstracts)\n",
    "prompt = generate_prompt(related_abstracts, query_)\n",
    "token_count = count_prompt_tokens(prompt)\n",
    "print('token count:', token_count)"
   ]
  },
  {
   "cell_type": "code",
   "execution_count": 61,
   "metadata": {},
   "outputs": [],
   "source": [
    "result = get_chat_completion(prompt)"
   ]
  },
  {
   "cell_type": "code",
   "execution_count": 63,
   "metadata": {},
   "outputs": [
    {
     "name": "stdout",
     "output_type": "stream",
     "text": [
      "Based on the abstracts of the research papers, the COVID-19 subtypes that have been found to cause neurological sequelae (manifestations) in existing research are:\n",
      "\n",
      "1. Severe Acute Respiratory Syndrome Coronavirus 2 (SARS-CoV-2) - mentioned in multiple abstracts.\n",
      "2. Severe Acute Respiratory Syndrome Coronavirus (SARS-CoV-1) - mentioned in one abstract.\n",
      "3. Middle East Respiratory Syndrome Coronavirus (MERS-CoV) - mentioned in one abstract.\n",
      "\n",
      "Please note that these are the subtypes mentioned in the abstracts provided, and there may be other subtypes that have been studied in different research papers.\n"
     ]
    }
   ],
   "source": [
    "print(result)"
   ]
  },
  {
   "cell_type": "code",
   "execution_count": 65,
   "metadata": {},
   "outputs": [
    {
     "name": "stdout",
     "output_type": "stream",
     "text": [
      "token count: 6661\n"
     ]
    }
   ],
   "source": [
    "query3_2 = \"What COVID-19 (SARS-CoV-2) subtypes have been found to cause neurological sequelae (manifestations) in existing research?\"\n",
    "query_ = query3_2\n",
    "query_num = \"3_2\"\n",
    "query_embedding = get_embedding(query_)\n",
    "top20_related = get_top_related_abstracts(query_embedding, top_n=20)\n",
    "top20_related_pids = [pid for pid, _ in top20_related]\n",
    "related_abstracts = make_related_abstracts_text(pids=top20_related_pids)\n",
    "with open(f'related_abstracts_query{query_num}.txt', 'w') as f:\n",
    "    f.write(related_abstracts)\n",
    "prompt = generate_prompt(related_abstracts, query_)\n",
    "token_count = count_prompt_tokens(prompt)\n",
    "print('token count:', token_count)"
   ]
  },
  {
   "cell_type": "code",
   "execution_count": 66,
   "metadata": {},
   "outputs": [],
   "source": [
    "result = get_chat_completion(prompt)"
   ]
  },
  {
   "cell_type": "code",
   "execution_count": 68,
   "metadata": {},
   "outputs": [
    {
     "name": "stdout",
     "output_type": "stream",
     "text": [
      "Based on the abstracts of the research papers, the neurological manifestations of COVID-19 have been associated with various subtypes of SARS-CoV-2. These include:\n",
      "\n",
      "1. Encephalitis\n",
      "2. Meningitis\n",
      "3. Acute cerebrovascular disease (including stroke)\n",
      "4. Guillain-Barré Syndrome (GBS)\n",
      "5. Hyposmia (reduced sense of smell)\n",
      "6. Hypogeusia (reduced sense of taste)\n",
      "7. Anosmia (loss of sense of smell)\n",
      "8. Headache\n",
      "9. Dizziness\n",
      "10. Depression\n",
      "11. Epileptic seizures\n",
      "12. Cranial nerve palsies\n",
      "13. Myalgia (muscle pain)\n",
      "14. Delirium\n",
      "15. Dysautonomia\n",
      "16. Myopathy\n",
      "17. Neuromuscular disorders\n",
      "18. Cephalgia (headache)\n",
      "19. Critical illness polyneuropathy\n",
      "20. Ophthalmoparesis (weakness or paralysis of eye muscles)\n",
      "21. Motor peripheral neuropathy\n",
      "\n",
      "It is important to note that these are the reported neurological manifestations in the existing research, and further studies are needed to fully understand the neurological complications associated with COVID-19.\n"
     ]
    }
   ],
   "source": [
    "print(result)"
   ]
  },
  {
   "cell_type": "code",
   "execution_count": 69,
   "metadata": {},
   "outputs": [
    {
     "name": "stdout",
     "output_type": "stream",
     "text": [
      "token count: 6807\n"
     ]
    }
   ],
   "source": [
    "query3_3 = \"What virus subtypes of SARS-CoV-2 have been found to cause neurological sequelae (manifestations) in existing research?\"\n",
    "query_ = query3_3\n",
    "query_num = \"3_3\"\n",
    "query_embedding = get_embedding(query_)\n",
    "top20_related = get_top_related_abstracts(query_embedding, top_n=20)\n",
    "top20_related_pids = [pid for pid, _ in top20_related]\n",
    "related_abstracts = make_related_abstracts_text(pids=top20_related_pids)\n",
    "with open(f'related_abstracts_query{query_num}.txt', 'w') as f:\n",
    "    f.write(related_abstracts)\n",
    "prompt = generate_prompt(related_abstracts, query_)\n",
    "token_count = count_prompt_tokens(prompt)\n",
    "print('token count:', token_count)"
   ]
  },
  {
   "cell_type": "code",
   "execution_count": 70,
   "metadata": {},
   "outputs": [],
   "source": [
    "result = get_chat_completion(prompt)"
   ]
  },
  {
   "cell_type": "code",
   "execution_count": 72,
   "metadata": {},
   "outputs": [
    {
     "name": "stdout",
     "output_type": "stream",
     "text": [
      "Based on the abstracts of the research papers, the neurological manifestations of SARS-CoV-2 have been reported in patients infected with the virus causing COVID-19. However, the abstracts do not specifically mention the virus subtypes of SARS-CoV-2 that have been found to cause neurological sequelae. Therefore, based on the given information, it is not possible to determine the specific virus subtypes associated with neurological manifestations.\n"
     ]
    }
   ],
   "source": [
    "print(result)"
   ]
  },
  {
   "cell_type": "code",
   "execution_count": null,
   "metadata": {},
   "outputs": [],
   "source": []
  }
 ],
 "metadata": {
  "kernelspec": {
   "display_name": "base",
   "language": "python",
   "name": "python3"
  },
  "language_info": {
   "codemirror_mode": {
    "name": "ipython",
    "version": 3
   },
   "file_extension": ".py",
   "mimetype": "text/x-python",
   "name": "python",
   "nbconvert_exporter": "python",
   "pygments_lexer": "ipython3",
   "version": "3.9.16"
  }
 },
 "nbformat": 4,
 "nbformat_minor": 2
}
