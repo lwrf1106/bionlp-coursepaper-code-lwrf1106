{
 "cells": [
  {
   "cell_type": "code",
   "execution_count": 28,
   "metadata": {},
   "outputs": [],
   "source": [
    "import json\n",
    "import openai\n",
    "import os\n",
    "import tiktoken\n",
    "from scipy import spatial  # for calculating vector similarities for search"
   ]
  },
  {
   "cell_type": "code",
   "execution_count": null,
   "metadata": {},
   "outputs": [],
   "source": [
    "openai.api_key = os.environ[\"OPENAI_API_KEY\"]"
   ]
  },
  {
   "cell_type": "code",
   "execution_count": 11,
   "metadata": {},
   "outputs": [],
   "source": [
    "with open('pid_abstract_final.json') as f:\n",
    "    pid_abstrate = json.load(f)\n",
    "\n",
    "with open('pid_title.json') as f:\n",
    "    pid_title = json.load(f)"
   ]
  },
  {
   "cell_type": "code",
   "execution_count": 6,
   "metadata": {},
   "outputs": [],
   "source": [
    "pid_content_relate_label = {}\n",
    "with open('topic02.csv') as f:\n",
    "    lines = f.read().splitlines()\n",
    "\n",
    "for line in lines:\n",
    "    pid, label = line.split(',')\n",
    "    pid_content_relate_label[pid] = int(label)"
   ]
  },
  {
   "cell_type": "code",
   "execution_count": 7,
   "metadata": {},
   "outputs": [
    {
     "data": {
      "text/plain": [
       "116"
      ]
     },
     "execution_count": 7,
     "metadata": {},
     "output_type": "execute_result"
    }
   ],
   "source": [
    "len([pid for pid, label in pid_content_relate_label.items() if label])"
   ]
  },
  {
   "cell_type": "code",
   "execution_count": 8,
   "metadata": {},
   "outputs": [],
   "source": [
    "pids = list(set([pid for pid, label in pid_content_relate_label.items() if label]))"
   ]
  },
  {
   "cell_type": "code",
   "execution_count": 9,
   "metadata": {},
   "outputs": [
    {
     "data": {
      "text/plain": [
       "116"
      ]
     },
     "execution_count": 9,
     "metadata": {},
     "output_type": "execute_result"
    }
   ],
   "source": [
    "len(pids)"
   ]
  },
  {
   "cell_type": "code",
   "execution_count": 13,
   "metadata": {},
   "outputs": [],
   "source": [
    "# embedding model test\n",
    "response = openai.Embedding.create(\n",
    "    input=\"This is test\",\n",
    "    engine=\"text-embedding-ada-002-test\",\n",
    ")"
   ]
  },
  {
   "cell_type": "code",
   "execution_count": 15,
   "metadata": {},
   "outputs": [],
   "source": [
    "embeddings = response['data'][0]['embedding']"
   ]
  },
  {
   "cell_type": "code",
   "execution_count": 16,
   "metadata": {},
   "outputs": [
    {
     "data": {
      "text/plain": [
       "1536"
      ]
     },
     "execution_count": 16,
     "metadata": {},
     "output_type": "execute_result"
    }
   ],
   "source": [
    "len(embeddings) # embedding length: 1536"
   ]
  },
  {
   "cell_type": "code",
   "execution_count": 23,
   "metadata": {},
   "outputs": [
    {
     "name": "stdout",
     "output_type": "stream",
     "text": [
      "total token count: 37965\n"
     ]
    }
   ],
   "source": [
    "# count token for each text\n",
    "tokenizer = tiktoken.encoding_for_model('text-embedding-ada-002')\n",
    "pid_token_count = {}\n",
    "for pid in pids:\n",
    "    text = f'Title: {pid_title[pid]}\\nAbstract: {pid_abstrate[pid]}'\n",
    "    tokens = tokenizer.encode(text)\n",
    "    pid_token_count[pid] = len(tokens)\n",
    "\n",
    "print('total token count:', sum(pid_token_count.values()))\n",
    "# total token count: 37965\n",
    "# API price: $0.0001 / 1K tokens\n",
    "# cost: $0.0038"
   ]
  },
  {
   "cell_type": "code",
   "execution_count": 24,
   "metadata": {},
   "outputs": [
    {
     "name": "stdout",
     "output_type": "stream",
     "text": [
      "0 32643664 success\n",
      "1 32935873 success\n",
      "2 33710597 success\n",
      "3 34951374 success\n",
      "4 33920904 success\n",
      "5 33803475 success\n",
      "6 36749239 success\n",
      "7 32937949 success\n",
      "8 35138001 success\n",
      "9 32751841 success\n",
      "10 33852526 success\n",
      "11 32859864 success\n",
      "12 32609336 success\n",
      "13 35807384 success\n",
      "14 33178109 success\n",
      "15 36186752 success\n",
      "16 35772604 success\n",
      "17 35072534 success\n",
      "18 32458193 success\n",
      "19 36180640 success\n",
      "20 33363165 success\n",
      "21 35699161 success\n",
      "22 36031313 success\n",
      "23 33929617 success\n",
      "24 35034236 success\n",
      "25 34408638 success\n",
      "26 35770683 success\n",
      "27 37261613 success\n",
      "28 32610334 success\n",
      "29 33268588 success\n",
      "30 37131407 success\n",
      "31 33106782 success\n",
      "32 35257690 success\n",
      "33 32839585 success\n",
      "34 33521692 success\n",
      "35 34577633 success\n",
      "36 37649125 success\n",
      "37 32530389 success\n",
      "38 34901061 success\n",
      "39 32574248 success\n",
      "40 36208899 success\n",
      "41 33177481 success\n",
      "42 33304309 success\n",
      "43 33052822 success\n",
      "44 35121209 success\n",
      "45 37575318 success\n",
      "46 33250631 success\n",
      "47 32422545 success\n",
      "48 33254519 success\n",
      "49 33602080 success\n",
      "50 32655489 success\n",
      "51 33051388 success\n",
      "52 34324964 success\n",
      "53 36799524 success\n",
      "54 33120941 success\n",
      "55 35863101 success\n",
      "56 32416028 success\n",
      "57 33394906 success\n",
      "58 35665037 success\n",
      "59 32683890 success\n",
      "60 34608117 success\n",
      "61 33226565 success\n",
      "62 32871412 success\n",
      "63 33464535 success\n",
      "64 33684975 success\n",
      "65 33519677 success\n",
      "66 33970839 success\n",
      "67 33089707 success\n",
      "68 32978729 success\n",
      "69 32489743 success\n",
      "70 33083695 success\n",
      "71 34782556 success\n",
      "72 34744963 success\n",
      "73 35283461 success\n",
      "74 36092161 success\n",
      "75 32672843 success\n",
      "76 35440321 success\n",
      "77 32550783 success\n",
      "78 34571039 success\n",
      "79 33889082 success\n",
      "80 32668062 success\n",
      "81 34694467 success\n",
      "82 33486564 success\n",
      "83 33139595 success\n",
      "84 33737894 success\n",
      "85 32483687 success\n",
      "86 33550780 success\n",
      "87 34145211 success\n",
      "88 33550782 success\n",
      "89 33486531 success\n",
      "90 34289037 success\n",
      "91 34815399 success\n",
      "92 32601577 success\n",
      "93 33094214 success\n",
      "94 33584720 success\n",
      "95 33332737 success\n",
      "96 33441073 success\n",
      "97 32455089 success\n",
      "98 35633158 success\n",
      "99 37660309 success\n",
      "100 32839951 success\n",
      "101 32730915 success\n",
      "102 33013675 success\n",
      "103 36121081 success\n",
      "104 32469387 success\n",
      "105 37176630 success\n",
      "106 33590398 success\n",
      "107 34766055 success\n",
      "108 34304141 success\n",
      "109 35883527 success\n",
      "110 37257164 success\n",
      "111 34537061 success\n",
      "112 32622375 success\n",
      "113 33912129 success\n",
      "114 33681293 success\n",
      "115 33027418 success\n"
     ]
    }
   ],
   "source": [
    "# get embeddings\n",
    "if os.path.exists('abstrate_embeddings.json'):\n",
    "    with open('abstrate_embeddings.json') as f:\n",
    "        abstract_embeddings = json.load(f)\n",
    "else:\n",
    "    abstract_embeddings = {}\n",
    "\n",
    "for idx, pid in enumerate(pids):\n",
    "    if pid in abstract_embeddings:\n",
    "        continue\n",
    "    text = f'Title: {pid_title[pid]}\\nAbstract: {pid_abstrate[pid]}'\n",
    "    try:\n",
    "        response = openai.Embedding.create(\n",
    "            input=text,\n",
    "            engine=\"text-embedding-ada-002-test\",\n",
    "        )\n",
    "        embeddings = response['data'][0]['embedding']\n",
    "        assert len(embeddings) == 1536\n",
    "        abstract_embeddings[pid] = embeddings\n",
    "        print(idx, pid, 'success')\n",
    "    except Exception as e:\n",
    "        print(idx, pid, e)\n",
    "        abstract_embeddings[pid] = \"OpenAI API error\"\n",
    "    \n",
    "    if idx + 1 % 10 == 0:\n",
    "        with open('abstrate_embeddings.json', 'w') as f:\n",
    "            json.dump(abstract_embeddings, f)\n",
    "\n",
    "with open('abstrate_embeddings.json', 'w') as f:\n",
    "    json.dump(abstract_embeddings, f)"
   ]
  },
  {
   "cell_type": "code",
   "execution_count": 34,
   "metadata": {},
   "outputs": [],
   "source": [
    "quary = \"What neurological sequelae (manifestations) after COVID-19 (coronavirus) infection have been reported?\"\n",
    "quary_embedding = openai.Embedding.create(\n",
    "    input=quary,\n",
    "    engine=\"text-embedding-ada-002-test\",\n",
    ")['data'][0]['embedding']"
   ]
  },
  {
   "cell_type": "code",
   "execution_count": 35,
   "metadata": {},
   "outputs": [],
   "source": [
    "relatedness_fn=lambda x, y: 1 - spatial.distance.cosine(x, y)\n",
    "pid_ralatedness = {}\n",
    "for pid, embedding in abstract_embeddings.items():\n",
    "    pid_ralatedness[pid] = relatedness_fn(quary_embedding, embedding)"
   ]
  },
  {
   "cell_type": "code",
   "execution_count": 38,
   "metadata": {},
   "outputs": [
    {
     "name": "stdout",
     "output_type": "stream",
     "text": [
      "35633158\n",
      "===============================\n",
      "0.9116670440087294\n",
      "===============================\n",
      "Neurological Sequelae of COVID-19.\n",
      "===============================\n",
      "BACKGROUND: Though primarily a pulmonary disease, Coronavirus disease 2019 (COVID-19) caused by the SARS-CoV-2 virus can generate devastating disease states that affect multiple organ systems including the central nervous system (CNS). The various neurological disorders associated with COVID-19 range in severity from mild symptoms such as headache, or myalgias to more severe symptoms such as stroke, psychosis, and anosmia. While some of the COVID-19 associated neurological complications are mild and reversible, a significant number of patients suffer from stroke. Studies have shown that COVID-19 infection triggers a wave of inflammatory cytokines that induce endothelial cell dysfunction and generate coagulopathy that increases the risk of stroke or thromboses. Inflammation of the endothelium following infection may also destabilize atherosclerotic plaque and induce thrombotic stroke. Although uncommon, there have also been reports of hemorrhagic stroke associated with COVID-19. The proposed mechanisms include a blood pressure increase caused by infection leading to a reduction in angiotensin converting enzyme-2 (ACE-2) levels that results in an imbalance of the renin-angiotensin system ultimately manifesting inflammation and vasoconstriction. Coagulopathy, as demonstrated by elevated prothrombin time (PT), has also been posited as a factor contributing to hemorrhagics stroke in patients with COVID-19. Other neurological conditions associated with COVID-19 include encephalopathy, anosmia, encephalitis, psychosis, brain fog, headache, depression, and anxiety. Though there are several hypotheses reported in the literature, a unifying pathophysiological mechanism of many of these disorders remains unclear. Pulmonary dysfunction leading to poor oxygenation of the brain may explain encephalopathy and other disorders in COVID-19 patients. Alternatively, a direct invasion of the CNS by the virus or breach of the blood-brain barrier by the systemic cytokines released during infection may be responsible for these conditions. Notwithstanding, the relationship between the inflammatory cytokine levels and conditions such as depression and anxiety is contradictory and perhaps the social isolation during the pandemic may in part be a contributing factor to some of the reported CNS disorders.OBJECTIVE: In this article, we review the current literature pertaining to some of the most significant and common neurological disorders such as ischemic and hemorrhagic stroke, encephalopathy, encephalitis, brain fog, Long COVID, headache, Guillain-Barre syndrome, depression, anxiety, and sleep disorders in the setting of COVID-19. We summarize some of the most relevant literature to provide a better understanding of the mechanistic details regarding these disorders in order to help physicians monitor and treat patients for significant COVID-19 associated neurologic impairments.METHODS: A literature review was carried out by the authors using PubMed with the search terms \"COVID-19\" and \"Neurology\", \"Neurological Manifestations\", \"Neuropsychiatric Manifestations\", \"Stroke\", \"Encephalopathy\", \"Headache\", \"Guillain-Barre syndrome\", \"Depression\", \"Anxiety\", \"Encephalitis\", \"Seizure\", \"Spasm\", and \"ICUAW\". Another search was carried out for \"Long-COVID\" and \"Post-Acute COVID-19\" and \"Neurological Manifestations\" or \"Neuropsychiatric Manifestations\". Articles such as case reports, case series, and cohort studies were included as references. No language restrictions were enforced. In the case of anxiety and depression, attempts were made to focus mainly on articles describing these conditions in infected patients.RESULTS: A total of 112 articles were reviewed. The incidence, clinical outcomes, and pathophysiology of selected neurological disorders are discussed below. Given the recent advent of this disease, the incidence of certain neurologic sequelae was not always available. Putative mechanisms for each condition in the setting of COVID-19 are outlined.\n",
      "37660309\n",
      "===============================\n",
      "0.9100225259768865\n",
      "===============================\n",
      "Prevalence, pathogenesis and spectrum of neurological symptoms in COVID-19 and post-COVID-19 syndrome: a narrative review.\n",
      "===============================\n",
      "Neurological symptoms are not uncommon during severe acute respiratory syndrome coronavirus 2 (SARS-CoV-2) infection and reflect a broad spectrum of neurological disorders of which clinicians should be aware. The underlying pathogenesis of neurological disease in coronavirus disease 2019 (COVID-19) may be due to four mechanisms of nervous system dysfunction and injury: i) direct viral neurological invasion; ii) immune dysregulation; iii) endothelial dysfunction and coagulopathy; and iv) severe systemic COVID-19 disease. Neurological manifestations of acute COVID-19 include headache, peripheral neuropathies, seizures, encephalitis, Guillain-Barré syndrome, and cerebrovascular disease. Commonly reported long term neurological sequelae of COVID-19 are cognitive dysfunction and dysautonomia, which despite being associated with severe acute disease are also seen in people with mild disease. Assessment of cognitive dysfunction after COVID-19 is confounded by a high prevalence of comorbid fatigue, anxiety, and mood disorders. However, other markers of neuroaxonal breakdown suggest no significant neuronal injury apart from during severe acute COVID-19. The long term impact of COVID-19 on neurological diseases remains uncertain and requires ongoing vigilance.\n",
      "33803475\n",
      "===============================\n",
      "0.9086964869848689\n",
      "===============================\n",
      "Acute and Post-Acute Neurological Complications of COVID-19.\n",
      "===============================\n",
      "Coronavirus disease 2019 (COVID-19) is an emerging global health emergency caused by the novel coronavirus, severe acute respiratory syndrome coronavirus 2 (SARS-CoV-2). The global outbreak of SARS-CoV-2 infection has been declared a global pandemic by the World Health Organization (WHO). The clinical presentation of SARS-CoV-2 infection depends on the severity of the disease and may range from an asymptomatic infection to a severe and lethal illness. Fever, cough, and shortness of breath are among the most common symptoms associated with SARS-CoV-2 infection. Accumulating evidence indicates that COVID-19 patients commonly develop neurological symptoms, such as headache, altered mental status, anosmia, and myalgia. In this comprehensive literature review, we have summarized the most common neurological complications and reported neurological case studies associated with COVID-19, and neurological side effects associated with COVID-19 treatments. Additionally, the post-acute COVID-19 syndrome and long-term neurological complications were discussed. We also explained the proposed mechanisms that are involved in the pathogenesis of these neurological complications.\n",
      "33737894\n",
      "===============================\n",
      "0.9060063500080077\n",
      "===============================\n",
      "Neuropsychiatric and Cognitive Sequelae of COVID-19.\n",
      "===============================\n",
      "Coronavirus disease 2019 (COVID-19) is likely to have long-term mental health effects on individuals who have recovered from COVID-19. Rightly, there is a global response for recognition and planning on how to deal with mental health problems for everyone impacted by the global pandemic. This does not just include COVID-19 patients but the general public and health care workers as well. There is also a need to understand the role of the virus itself in the pathophysiology of mental health disorders and longer-term mental health sequelae. Emerging evidence suggests that COVID-19 patients develop neurological symptoms such as headache, altered consciousness, and paraesthesia. Brain tissue oedema and partial neurodegeneration have also been observed in an autopsy. In addition, there are reports that the virus has the potential to cause nervous system damage. Together, these findings point to a possible role of the virus in the development of acute psychiatric symptoms and long-term neuropsychiatric sequelae of COVID-19. The brain pathologies associated with COVID-19 infection is likely to have a long-term impact on cognitive processes. Evidence from other viral respiratory infections, such as severe acute respiratory syndrome (SARS), suggests a potential development of psychiatric disorders, long-term neuropsychiatric disorders, and cognitive problems. In this paper, we will review and evaluate the available evidence of acute and possible long-term neuropsychiatric manifestations of COVID-19. We will discuss possible pathophysiological mechanisms and the implications this will have on preparing a long-term strategy to monitor and manage such patients.\n",
      "35121209\n",
      "===============================\n",
      "0.9057928935796997\n",
      "===============================\n",
      "Mid and long-term neurological and neuropsychiatric manifestations of post-COVID-19 syndrome: A meta-analysis.\n",
      "===============================\n",
      "IMPORTANCE: Neurological and neuropsychiatric symptoms that persist or develop three months after the onset of COVID-19 pose a significant threat to the global healthcare system. These symptoms are yet to be synthesized and quantified via meta-analysis.OBJECTIVE: To determine the prevalence of neurological and neuropsychiatric symptoms reported 12 weeks (3 months) or more after acute COVID-19 onset in adults.DATA SOURCES: A systematic search of PubMed, EMBASE, Web of Science, Google Scholar and Scopus was conducted for studies published between January 1st, 2020 and August 1st, 2021. The systematic review was guided by Preferred Reporting Items for Systematic Review and Meta-Analyses.STUDY SELECTION: Studies were included if the length of follow-up satisfied the National Institute for Healthcare Excellence (NICE) definition of post-COVID-19 syndrome (symptoms that develop or persist ≥3 months after the onset of COVID-19). Additional criteria included the reporting of neurological or neuropsychiatric symptoms in individuals with COVID-19.DATA EXTRACTION AND SYNTHESIS: Two authors independently extracted data on patient characteristics, hospital and/or ICU admission, acute-phase COVID-19 symptoms, length of follow-up, and neurological and neuropsychiatric symptoms.MAIN OUTCOME(S) AND MEASURE(S): The primary outcome was the prevalence of neurological and neuropsychiatric symptoms reported ≥3 months post onset of COVID-19. We also compared post-COVID-19 syndrome in hospitalised vs. non-hospitalised patients, with vs. without ICU admission during the acute phase of infection, and with mid-term (3 to 6 months) and long-term (>6 months) follow-up.RESULTS: Of 1458 articles, 19 studies, encompassing a total of 11,324 patients, were analysed. Overall prevalence for neurological post-COVID-19 symptoms were: fatigue (37%, 95% CI: 24%-50%), brain fog (32%, 9%-55%), memory issues (27%, 18%-36%), attention disorder (22%, 10%-34%), myalgia (18%, 4%-32%), anosmia (12%, 7%-17%), dysgeusia (11%, 4%-17%) and headache (10%, 1%-21%). Neuropsychiatric conditions included sleep disturbances (31%, 18%-43%), anxiety (23%, 13%-33%) and depression (12%, 7%-21%). Neuropsychiatric symptoms substantially increased in prevalence between mid- and long-term follow-up. Compared to non-hospitalised patients, patients hospitalised for acute COVID-19 had reduced frequency of anosmia, anxiety, depression, dysgeusia, fatigue, headache, myalgia, and sleep disturbance at three (or more) months post-infection. Conversely, hospital admission was associated with higher frequency of memory issues (OR: 1.9, 95% CI: 1.4-2.3). Cohorts with >20% of patients admitted to the ICU during acute COVID-19 experienced higher prevalence of fatigue, anxiety, depression, and sleep disturbances than cohorts with <20% of ICU admission.CONCLUSIONS AND RELEVANCE: Fatigue, cognitive dysfunction (brain fog, memory issues, attention disorder) and sleep disturbances appear to be key features of post-COVID-19 syndrome. Psychiatric manifestations (sleep disturbances, anxiety, and depression) are common and increase significantly in prevalence over time. Randomised controlled trials are necessary to develop intervention strategy to reduce disease burden.\n",
      "33089707\n",
      "===============================\n",
      "0.9056372360190711\n",
      "===============================\n",
      "Potential neurological manifestations of COVID-19: a narrative review.\n",
      "===============================\n",
      "Neurological manifestations are increasingly reported in a subset of COVID-19 patients. Previous infections related to coronaviruses, namely Severe Acute Respiratory Syndrome (SARS) and Middle Eastern Respiratory Syndrome (MERS) also appeared to have neurological effects on some patients. The viruses associated with COVID-19 like that of SARS enters the body via the ACE-2 receptors in the central nervous system, which causes the body to balance an immune response against potential damage to nonrenewable cells. A few rare cases of neurological sequelae of SARS and MERS have been reported. A growing body of evidence is accumulating that COVID-19, particularly in severe cases, may have neurological consequences although respiratory symptoms nearly always develop prior to neurological ones. Patients with preexisting neurological conditions may be at elevated risk for COVID-19-associated neurological symptoms. Neurological reports in COVID-19 patients have described encephalopathy, Guillain-Barré syndrome, myopathy, neuromuscular disorders, encephalitis, cephalgia, delirium, critical illness polyneuropathy, and others. Treating neurological symptoms can pose clinical challenges as drugs that suppress immune response may be contraindicated in COVID-19 patients. It is possible that in some COVID-19 patients, neurological symptoms are being overlooked or misinterpreted. To date, neurological manifestations of COVID-19 have been described largely within the disease trajectory and the long-term effects of such manifestations remain unknown.\n",
      "32839951\n",
      "===============================\n",
      "0.905330566829111\n",
      "===============================\n",
      "Neurological manifestations of COVID-19: available evidences and a new paradigm.\n",
      "===============================\n",
      "The recent pandemic outbreak of coronavirus is pathogenic and a highly transmittable viral infection caused by Severe Acute Respiratory Syndrome Coronavirus 2 (SARS-CoV2). In this time of ongoing pandemic, many emerging reports suggested that the SARS-CoV-2 has inimical effects on neurological functions, and even causes serious neurological damage. The neurological symptoms associated with COVID-19 include headache, dizziness, depression, anosmia, encephalitis, stroke, epileptic seizures, and Guillain-Barre syndrome along with many others. The involvement of the CNS may be related with poor prognosis and disease worsening. Here, we review the evidence of nervous system involvement and currently known neurological manifestations in COVID-19 infections caused by SARS-CoV-2. We prioritize the 332 human targets of SARS-CoV-2 according to their association with brain-related disease and identified 73 candidate genes. We prioritize these 73 genes according to their spatio-temporal expression in the different regions of brain and also through evolutionary intolerance analysis. The prioritized genes could be considered potential indicators of COVID-19-associated neurological symptoms and thus act as a possible therapeutic target for the prevention and treatment of CNS manifestations associated with COVID-19 patients.\n",
      "33486564\n",
      "===============================\n",
      "0.904613930039599\n",
      "===============================\n",
      "Neurological symptoms, manifestations, and complications associated with severe acute respiratory syndrome coronavirus 2 (SARS-CoV-2) and coronavirus disease 19 (COVID-19).\n",
      "===============================\n",
      "Severe acute respiratory syndrome coronavirus 2 (SARS-CoV-2), a novel coronavirus, is responsible for the outbreak of coronavirus disease 19 (COVID-19) and was first identified in Wuhan, China in December 2019. It is evident that the COVID-19 pandemic has become a challenging world issue. Although most COVID-19 patients primarily develop respiratory symptoms, an increasing number of neurological symptoms and manifestations associated with COVID-19 have been observed. In this narrative review, we elaborate on proposed neurotropic mechanisms and various neurological symptoms, manifestations, and complications of COVID-19 reported in the present literature. For this purpose, a review of all current published literature (studies, case reports, case series, reviews, editorials, and other articles) was conducted and neurological sequelae of COVID-19 were summarized. Essential and common neurological symptoms including gustatory and olfactory dysfunctions, myalgia, headache, altered mental status, confusion, delirium, and dizziness are presented separately in sections. Moreover, neurological manifestations and complications that are of great concern such as stroke, cerebral (sinus) venous thrombosis, seizures, meningoencephalitis, Guillain-Barré syndrome, Miller Fisher syndrome, acute myelitis, and posterior reversible encephalopathy syndrome (PRES) are also addressed systematically. Future studies that examine the impact of neurological symptoms and manifestations on the course of the disease are needed to further clarify and assess the link between neurological complications and the clinical outcome of patients with COVID-19. To limit long-term consequences, it is crucial that healthcare professionals can early detect possible neurological symptoms and are well versed in the increasingly common neurological manifestations and complications of COVID-19.\n",
      "32655489\n",
      "===============================\n",
      "0.9040050757518059\n",
      "===============================\n",
      "A Contemporary Review of Neurological Sequelae of COVID-19.\n",
      "===============================\n",
      "Coronavirus 2019 (COVID-19) is currently the center of what has become a public health crisis. While the virus is well-known for its trademark effects on respiratory function, neurological damage has been reported to affect a considerable proportion of severe cases. To characterize the neuro-invasive potential of this disease, a contemporary review of COVID-19 and its neurological sequelae was conducted using the limited, but growing, literature that is available. These neurological squeal are based on the manifestations that the virus has on normal central and peripheral nervous system function. The authors present the virology of the SARS-CoV-2 agent by analyzing its classification as an enveloped, positive-stranded RNA virus. A comprehensive timeline is then presented, indicating the progression of the disease as a public health threat. Furthermore, underlying chronic neurological conditions potentially lead to more adverse cases of COVID-19. SARS-CoV-2 may reach ACE2 receptors on neuronal tissue through mode of the general circulation. The CNS may also be susceptible to an immune response where a \"cytokine storm\" can manifest into neural injury. Histological evidence is provided, while symptoms such as headache and vertigo are highlighted as CNS manifestations of COVID-19. Treatment of these symptoms is addressed with paracetamol being recommended as a possible, but not conclusive, treatment to some CNS symptoms. The authors then discuss the peripheral nervous system sequelae and COVID's impact on causing chemosensory dysfunction starting with viral attack on olfactory sensory neurons and cells types within the lining of the nose. Histological evidence is also provided while symptoms such as anosmia and ageusia are characterized as PNS manifestations. Possible treatment options for these symptoms are then addressed as a major limitation, as anecdotal, and not conclusive evidence can be made. Finally, preventive measures of the neurological sequelae are addressed using a multidirectional approach. Postmortem examinations of the brains of COVID-19 patients are suggested as being a possible key to formulating new understandings of its neuropathology. Lastly, the authors suggest a more comprehensive neurological follow-up of recovered patients, in order to better characterize the neurological sequelae of this illness.\n",
      "32871412\n",
      "===============================\n",
      "0.9015640584566953\n",
      "===============================\n",
      "Neurological complications of coronavirus infection; a comparative review and lessons learned during the COVID-19 pandemic.\n",
      "===============================\n",
      "INTRODUCTION: Coronavirus disease-19 (COVID-19) pandemic continues to grow all over the world. Several studies have been performed, focusing on understanding the acute respiratory syndrome and treatment strategies. However, there is growing evidence indicating neurological manifestations occur in patients with COVID-19. Similarly, the other coronaviruses (CoV) epidemics; severe acute respiratory syndrome (SARS-CoV-1) and Middle East respiratory syndrome (MERS-CoV) have been associated with neurological complications.METHODS: This systematic review serves to summarize available information regarding the potential effects of different types of CoV on the nervous system and describes the range of clinical neurological complications that have been reported thus far in COVID-19.RESULTS: Two hundred and twenty-five studies on CoV infections associated neurological manifestations in human were reviewed. Of those, 208 articles were pertinent to COVID-19. The most common neurological complaints in COVID-19 were anosmia, ageusia, and headache, but more serious complications, such as stroke, impairment of consciousness, seizures, and encephalopathy, have also been reported.CONCLUSION: There are several similarities between neurological complications after SARS-CoV-1, MERS-CoV and COVID-19, however, the scope of the epidemics and number of patients are very different. Reports on the neurological complications after and during COVID-19 are growing on a daily basis. Accordingly, comprehensive knowledge of these complications will help health care providers to be attentive to these complications and diagnose and treat them timely.\n",
      "33139595\n",
      "===============================\n",
      "0.9011267385225848\n",
      "===============================\n",
      "Environmental Issues and Neurological Manifestations Associated with COVID-19 Pandemic: New Aspects of the Disease?\n",
      "===============================\n",
      "Coronavirus (SARS-CoV-2) emerged in China in December 2019 and rapidly caused a global health pandemic. Current evidence seems to suggest a possible link with ecosystem disequilibrium and even air pollution. The primary manifestations affect respiratory and circulatory systems, but neurological features are also being reported through case reports and case series. We summarize neurological symptoms and complications associated with COVID-19. We have searched for original articles published in PubMed/Medline, PubMed Central and Google Scholar using the following keywords: \"COVID-19\", \"Coronavirus\", \"pandemic\", \"SARS-COV-2\", \"neurology\", \"neurological\", \"complications\" and \"manifestations\". We found around 1000 publications addressing the issue of neurological conditions associated with COVID-19 infection. Amongst those, headache and dizziness are the most common reported symptoms followed by encephalopathy and delirium, while the most frequent complications are cerebrovascular accidents, Guillain-Barré syndrome, acute transverse myelitis, and acute encephalitis. Specific symptoms affecting the peripheral nervous system such as hyposmia and dysgeusia are the most common manifestations recorded in the selected studies. Interestingly, it was noted that these kinds of neurological symptoms might precede the typical features, such as fever and cough, in COVID patients. Neurological symptoms and complications associated with COVID-19 should be considered as a part of the clinical features of this novel global pandemic.\n",
      "36031313\n",
      "===============================\n",
      "0.9009993000970463\n",
      "===============================\n",
      "Neurologic complications of coronavirus and other respiratory viral infections.\n",
      "===============================\n",
      "In humans, several respiratory viruses can have neurologic implications affecting both central and peripheral nervous system. Neurologic manifestations can be linked to viral neurotropism and/or indirect effects of the infection due to endothelitis with vascular damage and ischemia, hypercoagulation state with thrombosis and hemorrhages, systemic inflammatory response, autoimmune reactions, and other damages. Among these respiratory viruses, recent and huge attention has been given to the coronaviruses, especially the severe acute respiratory syndrome coronavirus 2 (SARS-CoV-2) pandemic started in 2020. Besides the common respiratory symptoms and the lung tropism of SARS-CoV-2 (COVID-19), neurologic manifestations are not rare and often present in the severe forms of the infection. The most common acute and subacute symptoms and signs include headache, fatigue, myalgia, anosmia, ageusia, sleep disturbances, whereas clinical syndromes include mainly encephalopathy, ischemic stroke, seizures, and autoimmune peripheral neuropathies. Although the pathogenetic mechanisms of COVID-19 in the various acute neurologic manifestations are partially understood, little is known about long-term consequences of the infection. These consequences concern both the so-called long-COVID (characterized by the persistence of neurological manifestations after the resolution of the acute viral phase), and the onset of new neurological symptoms that may be linked to the previous infection.\n",
      "32574248\n",
      "===============================\n",
      "0.9004125164537495\n",
      "===============================\n",
      "Neurological Manifestations of COVID-19 (SARS-CoV-2): A Review.\n",
      "===============================\n",
      "Background: Coronavirus disease 2019 (COVID-19), caused by severe acute respiratory syndrome coronavirus 2 (SARS-CoV-2), has been associated with many neurological symptoms but there is a little evidence-based published material on the neurological manifestations of COVID-19. The purpose of this article is to review the spectrum of the various neurological manifestations and underlying associated pathophysiology in COVID-19 patients. Method: We conducted a review of the various case reports and retrospective clinical studies published on the neurological manifestations, associated literature, and related pathophysiology of COVID-19 using PUBMED and subsequent proceedings. A total of 118 articles were thoroughly reviewed in order to highlight the plausible spectrum of neurological manifestations of COVID 19. Every article was either based on descriptive analysis, clinical scenarios, correspondence, and editorials emphasizing the neurological manifestations either directly or indirectly. We then tried to highlight the significant plausible manifestations and complications that could be related to the pandemic. With little known about the dynamics and the presentation spectrum of the virus apart from the respiratory symptoms, this area needs further consideration. Conclusion: The neurological manifestations associated with COVID-19 such as Encephalitis, Meningitis, acute cerebrovascular disease, and Guillain Barré Syndrome (GBS) are of great concern. But in the presence of life-threatening abnormal vitals in severely ill COVID-19 patients, these are not usually underscored. There is a need to diagnose these manifestations at the earliest to limit long term sequelae. Much research is needed to explore the role of SARS-CoV-2 in causing these neurological manifestations by isolating it either from cerebrospinal fluid or brain tissues of the deceased on autopsy. We also recommend exploring the risk factors that lead to the development of these neurological manifestations.\n",
      "32839585\n",
      "===============================\n",
      "0.8996527383876077\n",
      "===============================\n",
      "Lifting the mask on neurological manifestations of COVID-19.\n",
      "===============================\n",
      "As the severe acute respiratory syndrome coronavirus 2 (SARS-CoV-2) epidemic spreads, it is becoming increasingly evident that coronavirus disease 2019 (COVID-19) is not limited to the respiratory system, and that other organs can be affected. In particular, virus-related neurological manifestations are being reported more and more frequently in the scientific literature. In this article, we review the literature on the association between COVID-19 and neurological manifestations, present evidence from preclinical research suggesting that SARS-CoV-2 could be responsible for many of these manifestations, and summarize the biological pathways that could underlie each neurological symptom. Understanding the mechanisms that lead to neurological manifestations in patients with COVID-19 and how these manifestations correlate with clinical outcomes will be instrumental in guiding the optimal use of targeted therapeutic strategies.\n",
      "32643664\n",
      "===============================\n",
      "0.8990509500518413\n",
      "===============================\n",
      "Spectrum of Neurological Manifestations in Covid-19: A Review.\n",
      "===============================\n",
      "COVID-19, in most patients, presents with mild flu-like illness. Elderly patients with comorbidities, like hypertension, diabetes, or lung and cardiac disease, are more likely to have severe disease and deaths. Neurological complications are frequently reported in severely or critically ill patients with comorbidities. In COVID-19, both central and peripheral nervous systems can be affected. The SARS-CoV-2 virus causes the disease COVID-19 and has the potential to invade the brain. The SARS-CoV-2 virus enters the brain either via a hematogenous route or olfactory system. Angiotensin-converting enzyme two receptors, present on endothelial cells of cerebral vessels, are a possible viral entry point. The most severe neurological manifestations, altered sensorium (agitation, delirium, and coma), are because of hypoxic and metabolic abnormalities. Characteristic cytokine storm incites severe metabolic changes and multiple organ failure. Profound coagulopathies may manifest with ischemic or hemorrhagic stroke. Rarely, SARS-CoV-2 virus encephalitis or pictures like acute disseminated encephalomyelitis or acute necrotizing encephalopathy have been reported. Nonspecific headache is a commonly experienced neurological symptom. A new type of headache \"personal protection equipment-related headache\" has been described. Complete or partial anosmia and ageusia are common peripheral nervous system manifestations. Recently, many cases of Guillain-Barré syndrome in COVID-19 patients have been observed, and a postinfectious immune-mediated inflammatory process was held responsible for this. Guillain-Barré syndrome does respond to intravenous immunoglobulin. Myalgia/fatigue is also common, and elevated creatine kinase levels indicate muscle injury. Most of the reports about neurological complications are currently from China. COVID-19 pandemic is spreading to other parts of the world; the spectrum of neurological complications is likely to widen further.\n",
      "32483687\n",
      "===============================\n",
      "0.8986656112449628\n",
      "===============================\n",
      "The neurological manifestations of COVID-19: a review article.\n",
      "===============================\n",
      "RESULTS: Various neurological manifestations have been reported in the literature associated with COVID-19, which in the current study are classified into Central Nervous System (CNS) related manifestations including headache, dizziness, impaired consciousness, acute cerebrovascular disease, epilepsy, and Peripheral Nervous System (PNS) related manifestations such as hyposmia/anosmia, hypogeusia/ageusia, muscle pain, and Guillain-Barre syndrome.CONCLUSION: During the current context of COVID-19 pandemic, physicians should be aware of wide spectrum of neurological COVID-19 sign and symptoms for early diagnosis and isolation of patients. In this regard, COVID-19 has been associated with many neurological manifestations such as confusion, anosmia, and ageusia. Also, various evidences support the possible CNS roles in the COVID-19 pathophysiology. In this regard, further investigation of CNS involvement of SARS-COV-2 is suggested.\n",
      "33177481\n",
      "===============================\n",
      "0.8981611010198376\n",
      "===============================\n",
      "Long-Term Respiratory and Neurological Sequelae of COVID-19.\n",
      "===============================\n",
      "Since the initial reports of coronavirus disease 2019 (COVID-19) in China in late 2019, infections from severe acute respiratory syndrome coronavirus 2 (SARS-CoV-2) have spread rapidly, resulting in a global pandemic that has caused millions of deaths. Initially, the large number of infected people required the direction of global healthcare resources to provide supportive care for the acutely ill population in an attempt to reduce mortality. While clinical trials for safe and effective antiviral agents are ongoing, and vaccine development programs are being accelerated, long-term sequelae of SARS-CoV-2 infection have become increasingly recognized and concerning. Although the upper and lower respiratory tracts are the main sites of entry of SARS-CoV-2 into the body, resulting in COVID-19 pneumonia as the most common presentation, acute lung damage may be followed by pulmonary fibrosis and chronic impairment of lung function, with impaired quality of life. Also, increasing reports have shown that SARS-CoV-2 infection involves the central nervous system (CNS) and the peripheral nervous system (PNS) and directly or indirectly damages neurons, leading to long-term neurological sequelae. This review aims to provide an update on the mechanisms involved in the development of the long-term sequelae of SARS-CoV-2 infection in the 3 main areas of lung injury, neuronal injury, and neurodegenerative diseases, including Alzheimer disease, Parkinson disease, and multiple sclerosis, and highlights the need for patient monitoring following the acute stage of infection with SARS-CoV-2 to provide a rationale for the prevention, diagnosis, and management of these potential long-term sequelae.\n",
      "33889082\n",
      "===============================\n",
      "0.8978935292558582\n",
      "===============================\n",
      "The Other Side of SARS-CoV-2 Infection: Neurological Sequelae in Patients.\n",
      "===============================\n",
      "The severe acute respiratory syndrome coronavirus 2 (SARS-CoV-2) has spread around the globe causing coronavirus disease 2019 (COVID-19). Because it affects the respiratory system, common symptoms are cough and breathing difficulties with fever and fatigue. Also, some cases progress to acute respiratory distress syndrome (ARDS). The acute phase of COVID-19 has been also related to nervous system symptoms, including loss of taste and smell as well as encephalitis and cerebrovascular disorders. However, it remains unclear if neurological complications are due to the direct viral infection of the nervous system, or they appear as a consequence of the immune reaction against the virus in patients who presented pre-existing deficits or had a certain detrimental immune response. Importantly, the medium and long-term consequences of the infection by SARS-CoV-2 in the nervous system remain at present unknown. This review article aims to give an overview of the current neurological symptoms associated with COVID-19, as well as attempting to provide an insight beyond the acute affectation.\n",
      "32859864\n",
      "===============================\n",
      "0.8972036971045434\n",
      "===============================\n",
      "Neurological manifestations of COVID-19: A brief review.\n",
      "===============================\n",
      "The COVID-19 pandemic, caused by severe acute respiratory syndrome coronavirus 2 (SARS-CoV-2), has been predominantly a respiratory manifestation. Currently, with evolving literature, neurological signs are being increasingly recognized. Studies have reported that SARS-CoV-2 affects all aspects of the nervous system including the central nervous system (CNS), peripheral nervous system (PNS) and the muscular system as well. Not all patients have reverse transcription-polymerase chain reaction positive for the virus in the cerebrospinal fluid, and diagnosing the association of the virus with the myriad of neurological manifestations can be a challenge. It is important that clinicians have a high-index of suspicion for COVID-19 in patients presenting with new-onset neurological symptoms. This will lead to early diagnosis and specific management. Further studies are desired to unravel the varied neurological manifestations, treatment, outcome and long-term sequel in COVID-19 patients.\n",
      "36180640\n",
      "===============================\n",
      "0.8970715797680759\n",
      "===============================\n",
      "Neurological consequences of COVID-19.\n",
      "===============================\n",
      "In December 2019, cases of pneumonia caused by infection with the previously unknown severe acute respiratory syndrome coronavirus 2 (SARS-CoV-2), leading to coronavirus disease 2019 (COVID-19), were identified. Typical manifestations of COVID-19 are fever, cough, fatigue and dyspnoea. Initially, it was thought that the mechanism of action of SARS-CoV-2 was only associated with respiratory tract invasion, but it was later revealed that the infection might involve many other organs and systems, including the central and peripheral nervous systems. Neurological complications associated with SARS-CoV-2 infection include encephalopathy, encephalitis, meningitis, acute disseminated encephalomyelitis (ADEM), ischaemic and haemorrhagic stroke and cerebral venous sinus thrombosis. In cases of peripheral nervous system involvement, smell and taste disorders, myopathy or the signs and symptoms of Guillain‒Barré syndrome are observed. The most common early neurological complications, particularly during the first year of the epidemic, were anosmia and taste disorders, which, according to some studies, occurred in over 80 percent of patients with COVID-19. The proportion of patients with serious neurological manifestations was small compared to the global number of patients, but the numbers of SARS-CoV-2 infections and critical patients increased substantially. The experience from 2 years of the pandemic has shown that approximately 13% of infected patients suffer from severe neurological complications. The relationship between SARS-CoV-2 and the nervous system is not only a cause of neurological complications in previously healthy individuals but also directly and indirectly affects the courses of many nervous system diseases.\n",
      "34304141\n",
      "===============================\n",
      "0.8968724528628724\n",
      "===============================\n",
      "Neurological manifestations of COVID-19: A comprehensive literature review and discussion of mechanisms.\n",
      "===============================\n",
      "Several neurological symptoms and complications have been described in association with COVID-19, such as anosmia, ageusia, encephalitis and Guillain-Barré syndrome. Here, we review the literature describing SARS-CoV-2-induced neurological manifestations and provide a comprehensive discussion of proposed mechanisms underlying the neurological pathophysiology. First, we analyse the neuroinvasiveness potential of the coronavirus family based on previous SARS-CoV-1 studies. Then, we describe the current evidence on COVID-19-induced nervous tissue damage, including processes behind brain vasculopathy and cytokine storm. We also discuss in detail anosmia and Guillain-Barré syndrome. Finally, we provide a summarised timeline of the main findings in the field. Future perspectives are presented, and suggestions of further investigations to clarify how SARS-COV-2 can affect the CNS.\n",
      "32416028\n",
      "===============================\n",
      "0.8968670247620034\n",
      "===============================\n",
      "Neurological manifestations and neuro-invasive mechanisms of the severe acute respiratory syndrome coronavirus type 2.\n",
      "===============================\n",
      "BACKGROUND AND PURPOSE: Infections with coronaviruses are not always confined to the respiratory tract and various neurological manifestations have been reported. The aim of this study was to perform a review to describe neurological manifestations in patients with COVID-19 and possible neuro-invasive mechanisms of Sars-CoV-2.METHODS: PubMed, Web of Science and COVID-dedicated databases were searched for the combination of COVID-19 terminology and neurology terminology up to 10 May 2020. Social media channels were followed up between 15 March and 10 May 2020 for postings with the same scope. Neurological manifestations were extracted from the identified papers and combined to provide a useful summary for the neurologist in clinical practice.RESULTS: Neurological manifestations potentially related to COVID-19 have been reported in large studies, case series and case reports and include acute cerebrovascular diseases, impaired consciousness, cranial nerve manifestations and autoimmune disorders such as the Guillain-Barré syndrome often present in patients with more severe COVID-19. Cranial nerve symptoms such as olfactory and gustatory dysfunctions are highly prevalent in patients with mild to moderate COVID-19 even without associated nasal symptoms and often present in an early stage of the disease.CONCLUSION: Physicians should be aware of the neurological manifestations in patients with COVID-19, especially when rapid clinical deterioration occurs. The neurological symptoms in COVID-19 patients may be due to direct viral neurological injury or indirect neuroinflammatory and autoimmune mechanisms. No antiviral treatments against the virus or vaccines for its prevention are available and the long-term consequences of the infection on human health remain uncertain especially with regard to the neurological system.\n",
      "32455089\n",
      "===============================\n",
      "0.8960397798269977\n",
      "===============================\n",
      "A Review of Neurological Complications of COVID-19.\n",
      "===============================\n",
      "The SARS-CoV-2, a novel virus has shown an association with central nervous system (CNS) symptoms. Initial retrospective studies emerging from China and France, as well as case reports from different parts of the world revealed a spectrum of neurological symptoms ranging from a simple headache to more serious encephalitis and dysexecutive syndromes. Authors have tried to explain this neurotropism of the virus by comparing invasion mechanisms with prior epidemic coronavirus like severe acute respiratory syndrome (SARS) and Middle East respiratory syndrome (MERS). Concrete evidence on those viruses has been limited. This review attempts to discuss various pathophysiological mechanisms as it relates to neurological complications of SARS-CoV-2. We will also discuss the neurological manifestations seen in various retrospective studies, systemic reviews, and case reports.\n",
      "37176630\n",
      "===============================\n",
      "0.8949176397737173\n",
      "===============================\n",
      "Long-Term Effects of SARS-CoV-2 in the Brain: Clinical Consequences and Molecular Mechanisms.\n",
      "===============================\n",
      "Numerous investigations have demonstrated significant and long-lasting neurological manifestations of COVID-19. It has been suggested that as many as four out of five patients who sustained COVID-19 will show one or several neurological symptoms that can last months after the infection has run its course. Neurological symptoms are most common in people who are less than 60 years of age, while encephalopathy is more common in those over 60. Biological mechanisms for these neurological symptoms need to be investigated and may include both direct and indirect effects of the virus on the brain and spinal cord. Individuals with Alzheimer's disease (AD) and related dementia, as well as persons with Down syndrome (DS), are especially vulnerable to COVID-19, but the biological reasons for this are not clear. Investigating the neurological consequences of COVID-19 is an urgent emerging medical need, since close to 700 million people worldwide have now had COVID-19 at least once. It is likely that there will be a new burden on healthcare and the economy dealing with the long-term neurological consequences of severe SARS-CoV-2 infections and long COVID, even in younger generations. Interestingly, neurological symptoms after an acute infection are strikingly similar to the symptoms observed after a mild traumatic brain injury (mTBI) or concussion, including dizziness, balance issues, anosmia, and headaches. The possible convergence of biological pathways involved in both will be discussed. The current review is focused on the most commonly described neurological symptoms, as well as the possible molecular mechanisms involved.\n",
      "32422545\n",
      "===============================\n",
      "0.8947136538426664\n",
      "===============================\n",
      "Neurological manifestations of COVID-19 and other coronavirus infections: A systematic review.\n",
      "===============================\n",
      "BACKGROUND: Increasing research reports neurological manifestations of COVID-19 patients. SARS-CoV-2 shares homology with other human coronaviruses that have also had nervous system involvement.OBJECTIVE: To review the neurological aspects of SARS-cov2 and other coronavirus, including transmission pathways, mechanisms of invasion into the nervous system, and mechanisms of neurological disease.METHODS: We conducted a systematic review of articles in PubMed, SCOPUS and EMBASE data bases. Reviewed evidence is presented in sections of this manuscript which includes pathogenesis, neuro-invasion, encephalitis, Guillain-Barré, ADEM, multiple sclerosis, polyneuropathy, and cerebrovascular disease.RESULTS: A total 67 studies were included in the final analysis of experimental studies, case reports, series of cases, cohort studies, and systematic reviews related to neurological manifestations of SARS- CoV-2 and other human coronavirus infections. The SARS-CoV-2 receptor is expressed in the nervous system. Common reported symptoms included hyposmia, headaches, weakness, altered consciousness. Encephalitis, demyelination, neuropathy, and stroke have been associated with COVID-19. Infection through the cribriform plate and olfactory bulb and dissemination through trans-synaptic transfer are some of the mechanisms proposed. Invasion of the medullary cardiorespiratory center by SARS-CoV-2 may contribute to the refractory respiratory failure observed in critically-ill COVID-19 patients.CONCLUSION: An increasing number of reports of COVID-19 patients with neurological disorders add to emergent experimental models with neuro-invasion as a reasonable concern that SARS-CoV-2 is a new neuropathogen. How it may cause acute and chronic neurologic disorders needs to be clarified in future research.\n",
      "33394906\n",
      "===============================\n",
      "0.8946057483252908\n",
      "===============================\n",
      "Neurological Manifestations of SARS-CoV-2: A Narrative Review.\n",
      "===============================\n",
      "BACKGROUND: Coronavirus disease 2019 (COVID-19) pandemic started as an outbreak in China and soon crossed borders to affect the populations in all countries of the world. During the initial course of the disease, COVID-19 was perceived as a pneumonia-like illness. However, recent findings of COVID-19 patients suggest that the virus has the potential to disseminate to different tissues and organs, and cause significant complications.SUMMARY: Neurological symptoms are of great significance as these usually present in and complicate critical cases. Many case reports and case series have documented the findings of neurological complications in COVID-19 patients. From the existing data, the most frequent symptoms in these patients were broadly classified into the central nervous system (CNS), peripheral nervous system, and skeletal muscular symptoms. CNS symptoms include meningitis, encephalitis, cerebrovascular complications, peripheral nervous system symptoms include anosmia, ageusia, and skeletal muscular symptoms include myalgias. It is postulated that the cause may be direct CNS injury through blood and neuronal pathways or indirectly because of an immune-mediated response, hypoxia caused by decreased oxygen saturation, or by the binding of subacute respiratory syndrome-coronavirus-2 to the host angiotensin-converting enzyme-2 receptors. Striking radiologic findings in COVID-19 patients with neurological symptoms have also emerged.CONCLUSIONS: As subacute respiratory syndrome-coronavirus-2 may potentially have lethal implications on the nervous system, it is important that neurologists are better informed about the spectrum of clinical manifestations, radiologic findings, and likely mechanisms of injury. Understanding the symptoms and radiologic imaging allows clinicians to consider brain imaging in any patient with suspected COVID-19 and neurological symptoms.\n",
      "32937949\n",
      "===============================\n",
      "0.8931253845562569\n",
      "===============================\n",
      "Neurological Complications of COVID-19 and Possible Neuroinvasion Pathways: A Systematic Review.\n",
      "===============================\n",
      "The Coronavirus Disease 2019 (COVID-19) outbreak has shocked the whole world with its unexpected rapid spread. The virus responsible for the disease, the Severe Acute Respiratory Syndrome Coronavirus 2 (SARS-CoV-2), enters host cells by means of the envelope spike protein, which binds to angiotensin-converting enzyme 2 receptors. These receptors are highly expressed in heart, lungs, respiratory tract epithelium, endothelial cells and brain. Since an increasing body of significant evidence is highlighting a possible neuroinvasion related to SARS-CoV-2, a state of the art on the neurological complications is needed. To identify suitable publications, our systematic review was carried out by searching relevant studies on PubMed and Scopus databases. We included studies investigating neurologic manifestations of SARS-CoV-2 in patients over 18. According to the analyzed studies, the most frequent disorders affecting central nervous system (CNS) seem to be the following: olfactory and taste disorders, ischemic/hemorrhagic stroke, meningoencephalitis and encephalopathy, including acute necrotizing encephalopathy, a rare type of encephalopathy. As regards the peripheral nervous system (PNS), Guillain-Barré and Miller Fisher syndromes are the most frequent manifestations reported in the literature. Important clinical information on the neurological manifestations of SARS-CoV-2 would help clinicians raise awareness and simultaneously improve the prognosis of critically ill patients.\n",
      "33052822\n",
      "===============================\n",
      "0.8927396788291259\n",
      "===============================\n",
      "Update on Neurological Manifestations of SARS-CoV-2.\n",
      "===============================\n",
      "Severe acute respiratory syndrome coronavirus 2, the source of COVID-19, causes numerous clinical findings including respiratory and gastrointestinal findings. Evidence is now growing for increasing neurological symptoms. This is thought to be from direct in-situ effects in the olfactory bulb caused by the virus. Angiotensin-converting enzyme 2 receptors likely serve as a key receptor for cell entry for most coronaviridae as they are present in multiple organ tissues in the body, notably neurons, and in type 2 alveolar cells in the lung. Hematogenous spread to the nervous system has been described, with viral transmission along neuronal synapses in a retrograde fashion. The penetration of the virus to the central nervous system (CNS) allows for the resulting intracranial cytokine storm, which can result in a myriad of CNS complications. There have been reported cases of associated cerebrovascular accidents with large vessel occlusions, cerebral venous sinus thrombosis, posterior reversible encephalopathy syndrome, meningoencephalitis, acute necrotizing encephalopathy, epilepsy, and myasthenia gravis. Peripheral nervous system effects such as hyposmia, hypogeusia, ophthalmoparesis, Guillain-Barré syndrome, and motor peripheral neuropathy have also been reported. In this review, we update the clinical manifestations of COVID-19 concentrating on the neurological associations that have been described, including broad ranges in both central and peripheral nervous systems.\n",
      "33920904\n",
      "===============================\n",
      "0.8923283257234612\n",
      "===============================\n",
      "Neurological Complications of COVID-19: Underlying Mechanisms and Management.\n",
      "===============================\n",
      "COVID-19 is a severe respiratory disease caused by the newly identified human coronavirus (HCoV) Severe Acute Respiratory Syndrome Coronavirus-2 (SARS-CoV-2). The virus was discovered in December 2019, and in March 2020, the disease was declared a global pandemic by the World Health Organization (WHO) due to a high number of cases. Although SARS-CoV-2 primarily affects the respiratory system, several studies have reported neurological complications in COVID-19 patients. Headache, dizziness, loss of taste and smell, encephalitis, encephalopathy, and cerebrovascular diseases are the most common neurological complications that are associated with COVID-19. In addition, seizures, neuromuscular junctions' disorders, and Guillain-Barré syndrome were reported as complications of COVID-19, as well as neurodegenerative and demyelinating disorders. However, the management of these conditions remains a challenge. In this review, we discuss the prevalence, pathogenesis, and mechanisms of these neurological sequelae that are secondary to SARS-CoV-2 infection. We aim to update neurologists and healthcare workers on the possible neurological complications associated with COVID-19 and the management of these disease conditions.\n",
      "35138001\n",
      "===============================\n",
      "0.8918324070575447\n",
      "===============================\n",
      "Neurological complications associated with Covid-19; molecular mechanisms and therapeutic approaches.\n",
      "===============================\n",
      "With the progression of investigations on the pathogenesis of severe acute respiratory syndrome coronavirus 2 (SARS-CoV-2), neurological complications have emerged as a critical aspect of the ongoing coronavirus disease 2019 (Covid-19) pandemic. Besides the well-known respiratory symptoms, many neurological manifestations such as anosmia/ageusia, headaches, dizziness, seizures, and strokes have been documented in hospitalised patients. The neurotropism background of coronaviruses has led to speculation that the neurological complications are caused by the direct invasion of SARS-CoV-2 into the nervous system. This invasion is proposed to occur through the infection of peripheral nerves or via systemic blood circulation, termed neuronal and haematogenous routes of invasion, respectively. On the other hand, aberrant immune responses and respiratory insufficiency associated with Covid-19 are suggested to affect the nervous system indirectly. Deleterious roles of cytokine storm and hypoxic conditions in blood-brain barrier disruption, coagulation abnormalities, and autoimmune neuropathies are well investigated in coronavirus infections, as well as Covid-19. Here, we review the latest discoveries focussing on possible molecular mechanisms of direct and indirect impacts of SARS-CoV-2 on the nervous system and try to elucidate the link between some potential therapeutic strategies and the molecular pathways.\n"
     ]
    }
   ],
   "source": [
    "pid_ralatedness_ = list(pid_ralatedness.items())\n",
    "pid_ralatedness_.sort(key=lambda x: x[1], reverse=True)\n",
    "\n",
    "\n",
    "# print top 10 relatedness\n",
    "for pid, relatedness in pid_ralatedness_[:30]:\n",
    "    print(pid, relatedness, pid_title[pid], pid_abstrate[pid], sep='\\n===============================\\n')"
   ]
  },
  {
   "cell_type": "code",
   "execution_count": 39,
   "metadata": {},
   "outputs": [
    {
     "data": {
      "text/plain": [
       "10189"
      ]
     },
     "execution_count": 39,
     "metadata": {},
     "output_type": "execute_result"
    }
   ],
   "source": [
    "top30_pids = [pid for pid, relatedness in pid_ralatedness_[:30]]\n",
    "\n",
    "# token count for top 30\n",
    "sum([pid_token_count[pid] for pid in top30_pids])"
   ]
  },
  {
   "cell_type": "code",
   "execution_count": 40,
   "metadata": {},
   "outputs": [],
   "source": [
    "related_abstracts = []\n",
    "for pid in top30_pids:\n",
    "    related_abstracts.append(f'Title: {pid_title[pid]}\\nAbstract: {pid_abstrate[pid]}\\n---\\n')\n",
    "related_abstracts = ''.join(related_abstracts)"
   ]
  },
  {
   "cell_type": "code",
   "execution_count": 43,
   "metadata": {},
   "outputs": [
    {
     "data": {
      "text/plain": [
       "10219"
      ]
     },
     "execution_count": 43,
     "metadata": {},
     "output_type": "execute_result"
    }
   ],
   "source": [
    "# count token of related abstracts\n",
    "len(tokenizer.encode(related_abstracts))"
   ]
  },
  {
   "cell_type": "code",
   "execution_count": 44,
   "metadata": {},
   "outputs": [],
   "source": [
    "prompt = f\"\"\"Use the below abstracts of research papers from Long covid database to answer the subsequent question. If the answer cannot be found, write \"I don't know.\"\n",
    "\n",
    "Abstracts of research papers:\n",
    "\\\"\\\"\\\"\n",
    "{related_abstracts}\n",
    "\\\"\\\"\\\"\n",
    "\n",
    "Question: {quary}\"\"\""
   ]
  },
  {
   "cell_type": "code",
   "execution_count": 45,
   "metadata": {},
   "outputs": [
    {
     "data": {
      "text/plain": [
       "10285"
      ]
     },
     "execution_count": 45,
     "metadata": {},
     "output_type": "execute_result"
    }
   ],
   "source": [
    "len(tokenizer.encode(prompt))"
   ]
  },
  {
   "cell_type": "code",
   "execution_count": 47,
   "metadata": {},
   "outputs": [],
   "source": [
    "response = openai.ChatCompletion.create(\n",
    "    messages=[\n",
    "        {'role': 'system', 'content': 'You answer questions about COVID-19 base on the abstrates of research papers.'},\n",
    "        {'role': 'user', 'content': prompt},\n",
    "    ],\n",
    "    model='gpt-3.5-turbo-16k',\n",
    "    temperature=0,\n",
    ")"
   ]
  },
  {
   "cell_type": "code",
   "execution_count": 49,
   "metadata": {},
   "outputs": [
    {
     "name": "stdout",
     "output_type": "stream",
     "text": [
      "The neurological sequelae (manifestations) reported after COVID-19 infection include:\n",
      "\n",
      "1. Headache\n",
      "2. Anosmia (loss of smell)\n",
      "3. Encephalopathy\n",
      "4. Encephalitis\n",
      "5. Psychosis\n",
      "6. Stroke\n",
      "7. Brain fog\n",
      "8. Depression\n",
      "9. Anxiety\n",
      "10. Guillain-Barre syndrome\n",
      "11. Sleep disorders\n",
      "12. Cognitive dysfunction\n",
      "13. Dysautonomia\n",
      "14. Peripheral neuropathies\n",
      "15. Seizures\n",
      "16. Myalgia (muscle pain)\n",
      "17. Meningitis\n",
      "18. Acute necrotizing encephalopathy\n",
      "19. Cerebrovascular diseases (ischemic and hemorrhagic stroke)\n",
      "20. Autoimmune neuropathies\n",
      "\n",
      "It is important to note that the incidence and severity of these neurological complications can vary among individuals, and further research is needed to fully understand the mechanisms and long-term effects of these manifestations.\n"
     ]
    }
   ],
   "source": [
    "print(response['choices'][0]['message']['content'])"
   ]
  }
 ],
 "metadata": {
  "kernelspec": {
   "display_name": "base",
   "language": "python",
   "name": "python3"
  },
  "language_info": {
   "codemirror_mode": {
    "name": "ipython",
    "version": 3
   },
   "file_extension": ".py",
   "mimetype": "text/x-python",
   "name": "python",
   "nbconvert_exporter": "python",
   "pygments_lexer": "ipython3",
   "version": "3.9.16"
  }
 },
 "nbformat": 4,
 "nbformat_minor": 2
}
